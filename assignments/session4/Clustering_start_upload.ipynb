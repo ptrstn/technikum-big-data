{
 "cells": [
  {
   "cell_type": "markdown",
   "metadata": {},
   "source": [
    "# NYC Accidents"
   ]
  },
  {
   "cell_type": "markdown",
   "metadata": {},
   "source": [
    "## Load data"
   ]
  },
  {
   "cell_type": "markdown",
   "metadata": {},
   "source": [
    "The total number of rows in the csv:"
   ]
  },
  {
   "cell_type": "code",
   "execution_count": 23,
   "metadata": {},
   "outputs": [
    {
     "data": {
      "text/html": [
       "<div>\n",
       "<style scoped>\n",
       "    .dataframe tbody tr th:only-of-type {\n",
       "        vertical-align: middle;\n",
       "    }\n",
       "\n",
       "    .dataframe tbody tr th {\n",
       "        vertical-align: top;\n",
       "    }\n",
       "\n",
       "    .dataframe thead th {\n",
       "        text-align: right;\n",
       "    }\n",
       "</style>\n",
       "<table border=\"1\" class=\"dataframe\">\n",
       "  <thead>\n",
       "    <tr style=\"text-align: right;\">\n",
       "      <th></th>\n",
       "      <th>latitude</th>\n",
       "      <th>longitude</th>\n",
       "      <th>uniquekey</th>\n",
       "    </tr>\n",
       "  </thead>\n",
       "  <tbody>\n",
       "    <tr>\n",
       "      <th>0</th>\n",
       "      <td>40.612034</td>\n",
       "      <td>-73.942720</td>\n",
       "      <td>3734548</td>\n",
       "    </tr>\n",
       "    <tr>\n",
       "      <th>1</th>\n",
       "      <td>40.758564</td>\n",
       "      <td>-73.983120</td>\n",
       "      <td>3734155</td>\n",
       "    </tr>\n",
       "    <tr>\n",
       "      <th>2</th>\n",
       "      <td>40.667980</td>\n",
       "      <td>-73.774320</td>\n",
       "      <td>3733973</td>\n",
       "    </tr>\n",
       "    <tr>\n",
       "      <th>3</th>\n",
       "      <td>40.700962</td>\n",
       "      <td>-73.892456</td>\n",
       "      <td>3734125</td>\n",
       "    </tr>\n",
       "    <tr>\n",
       "      <th>4</th>\n",
       "      <td>40.865387</td>\n",
       "      <td>-73.893456</td>\n",
       "      <td>3733582</td>\n",
       "    </tr>\n",
       "    <tr>\n",
       "      <th>...</th>\n",
       "      <td>...</td>\n",
       "      <td>...</td>\n",
       "      <td>...</td>\n",
       "    </tr>\n",
       "    <tr>\n",
       "      <th>99995</th>\n",
       "      <td>40.794650</td>\n",
       "      <td>-73.971794</td>\n",
       "      <td>3637152</td>\n",
       "    </tr>\n",
       "    <tr>\n",
       "      <th>99996</th>\n",
       "      <td>40.772327</td>\n",
       "      <td>-73.945310</td>\n",
       "      <td>3639627</td>\n",
       "    </tr>\n",
       "    <tr>\n",
       "      <th>99997</th>\n",
       "      <td>40.778830</td>\n",
       "      <td>-73.976100</td>\n",
       "      <td>3627328</td>\n",
       "    </tr>\n",
       "    <tr>\n",
       "      <th>99998</th>\n",
       "      <td>40.888140</td>\n",
       "      <td>-73.892770</td>\n",
       "      <td>3642568</td>\n",
       "    </tr>\n",
       "    <tr>\n",
       "      <th>99999</th>\n",
       "      <td>40.681150</td>\n",
       "      <td>-74.004580</td>\n",
       "      <td>3627549</td>\n",
       "    </tr>\n",
       "  </tbody>\n",
       "</table>\n",
       "<p>100000 rows × 3 columns</p>\n",
       "</div>"
      ],
      "text/plain": [
       "        latitude  longitude  uniquekey\n",
       "0      40.612034 -73.942720    3734548\n",
       "1      40.758564 -73.983120    3734155\n",
       "2      40.667980 -73.774320    3733973\n",
       "3      40.700962 -73.892456    3734125\n",
       "4      40.865387 -73.893456    3733582\n",
       "...          ...        ...        ...\n",
       "99995  40.794650 -73.971794    3637152\n",
       "99996  40.772327 -73.945310    3639627\n",
       "99997  40.778830 -73.976100    3627328\n",
       "99998  40.888140 -73.892770    3642568\n",
       "99999  40.681150 -74.004580    3627549\n",
       "\n",
       "[100000 rows x 3 columns]"
      ]
     },
     "execution_count": 23,
     "metadata": {},
     "output_type": "execute_result"
    }
   ],
   "source": [
    "import pandas as pd, numpy as np, matplotlib.pyplot as plt\n",
    "from sklearn.cluster import DBSCAN\n",
    "import matplotlib.pyplot as plot\n",
    "\n",
    "FILENAME = \"lat_long_key.csv\"\n",
    "NUMBER_OF_ROWS = 100_000\n",
    "\n",
    "df = pd.read_csv(FILENAME, nrows=NUMBER_OF_ROWS)\n",
    "df"
   ]
  },
  {
   "cell_type": "markdown",
   "metadata": {},
   "source": [
    "The total number of rows in the csv:"
   ]
  },
  {
   "cell_type": "code",
   "execution_count": 24,
   "metadata": {},
   "outputs": [
    {
     "name": "stdout",
     "output_type": "stream",
     "text": [
      "Total number of rows in csv: 890545\n"
     ]
    }
   ],
   "source": [
    "print(f\"Total number of rows in csv: {len(pd.read_csv(FILENAME))}\")"
   ]
  },
  {
   "cell_type": "markdown",
   "metadata": {},
   "source": [
    "## Clean data\n",
    "\n",
    "First the data base to be cleaned for missing or incorrect data points:"
   ]
  },
  {
   "cell_type": "code",
   "execution_count": 25,
   "metadata": {},
   "outputs": [
    {
     "name": "stdout",
     "output_type": "stream",
     "text": [
      "Minimum Latitude: 0.0\n",
      "Minimum Longitude: -201.23706\n",
      "Maximum Latitude: 41.12615\n",
      "Maximum Longitude: 0.0\n",
      "\n",
      "Median Latitude: 40.72237\n",
      "Median Longitude: -73.92742\n"
     ]
    }
   ],
   "source": [
    "print(f\"Minimum Latitude: {df.latitude.min()}\")\n",
    "print(f\"Minimum Longitude: {df.longitude.min()}\")\n",
    "print(f\"Maximum Latitude: {df.latitude.max()}\")\n",
    "print(f\"Maximum Longitude: {df.longitude.max()}\")\n",
    "print()\n",
    "print(f\"Median Latitude: {df.latitude.median()}\")\n",
    "print(f\"Median Longitude: {df.longitude.median()}\")"
   ]
  },
  {
   "cell_type": "code",
   "execution_count": 26,
   "metadata": {},
   "outputs": [
    {
     "data": {
      "text/html": [
       "<div>\n",
       "<style scoped>\n",
       "    .dataframe tbody tr th:only-of-type {\n",
       "        vertical-align: middle;\n",
       "    }\n",
       "\n",
       "    .dataframe tbody tr th {\n",
       "        vertical-align: top;\n",
       "    }\n",
       "\n",
       "    .dataframe thead th {\n",
       "        text-align: right;\n",
       "    }\n",
       "</style>\n",
       "<table border=\"1\" class=\"dataframe\">\n",
       "  <thead>\n",
       "    <tr style=\"text-align: right;\">\n",
       "      <th></th>\n",
       "      <th>latitude</th>\n",
       "      <th>longitude</th>\n",
       "      <th>uniquekey</th>\n",
       "    </tr>\n",
       "  </thead>\n",
       "  <tbody>\n",
       "    <tr>\n",
       "      <th>count</th>\n",
       "      <td>100000.000000</td>\n",
       "      <td>100000.000000</td>\n",
       "      <td>1.000000e+05</td>\n",
       "    </tr>\n",
       "    <tr>\n",
       "      <th>mean</th>\n",
       "      <td>40.714952</td>\n",
       "      <td>-73.938101</td>\n",
       "      <td>3.681063e+06</td>\n",
       "    </tr>\n",
       "    <tr>\n",
       "      <th>std</th>\n",
       "      <td>0.635841</td>\n",
       "      <td>2.468709</td>\n",
       "      <td>3.077555e+04</td>\n",
       "    </tr>\n",
       "    <tr>\n",
       "      <th>min</th>\n",
       "      <td>0.000000</td>\n",
       "      <td>-201.237060</td>\n",
       "      <td>3.586477e+06</td>\n",
       "    </tr>\n",
       "    <tr>\n",
       "      <th>25%</th>\n",
       "      <td>40.668224</td>\n",
       "      <td>-73.976170</td>\n",
       "      <td>3.654487e+06</td>\n",
       "    </tr>\n",
       "    <tr>\n",
       "      <th>50%</th>\n",
       "      <td>40.722370</td>\n",
       "      <td>-73.927420</td>\n",
       "      <td>3.681062e+06</td>\n",
       "    </tr>\n",
       "    <tr>\n",
       "      <th>75%</th>\n",
       "      <td>40.771656</td>\n",
       "      <td>-73.865180</td>\n",
       "      <td>3.707657e+06</td>\n",
       "    </tr>\n",
       "    <tr>\n",
       "      <th>max</th>\n",
       "      <td>41.126150</td>\n",
       "      <td>0.000000</td>\n",
       "      <td>3.735242e+06</td>\n",
       "    </tr>\n",
       "  </tbody>\n",
       "</table>\n",
       "</div>"
      ],
      "text/plain": [
       "            latitude      longitude     uniquekey\n",
       "count  100000.000000  100000.000000  1.000000e+05\n",
       "mean       40.714952     -73.938101  3.681063e+06\n",
       "std         0.635841       2.468709  3.077555e+04\n",
       "min         0.000000    -201.237060  3.586477e+06\n",
       "25%        40.668224     -73.976170  3.654487e+06\n",
       "50%        40.722370     -73.927420  3.681062e+06\n",
       "75%        40.771656     -73.865180  3.707657e+06\n",
       "max        41.126150       0.000000  3.735242e+06"
      ]
     },
     "execution_count": 26,
     "metadata": {},
     "output_type": "execute_result"
    }
   ],
   "source": [
    "df.describe()"
   ]
  },
  {
   "cell_type": "code",
   "execution_count": 38,
   "metadata": {},
   "outputs": [
    {
     "name": "stdout",
     "output_type": "stream",
     "text": [
      "Minimum Latitude: 40.502876\n",
      "Minimum Longitude: -74.251366\n",
      "Maximum Latitude: 40.912884000000005\n",
      "Maximum Longitude: -73.70058399999999\n",
      "\n",
      "Median Latitude: 40.72237\n",
      "Median Longitude: -73.92742\n"
     ]
    },
    {
     "data": {
      "text/html": [
       "<div>\n",
       "<style scoped>\n",
       "    .dataframe tbody tr th:only-of-type {\n",
       "        vertical-align: middle;\n",
       "    }\n",
       "\n",
       "    .dataframe tbody tr th {\n",
       "        vertical-align: top;\n",
       "    }\n",
       "\n",
       "    .dataframe thead th {\n",
       "        text-align: right;\n",
       "    }\n",
       "</style>\n",
       "<table border=\"1\" class=\"dataframe\">\n",
       "  <thead>\n",
       "    <tr style=\"text-align: right;\">\n",
       "      <th></th>\n",
       "      <th>latitude</th>\n",
       "      <th>longitude</th>\n",
       "      <th>uniquekey</th>\n",
       "    </tr>\n",
       "  </thead>\n",
       "  <tbody>\n",
       "    <tr>\n",
       "      <th>count</th>\n",
       "      <td>99934.000000</td>\n",
       "      <td>99934.000000</td>\n",
       "      <td>9.993400e+04</td>\n",
       "    </tr>\n",
       "    <tr>\n",
       "      <th>mean</th>\n",
       "      <td>40.724711</td>\n",
       "      <td>-73.920809</td>\n",
       "      <td>3.681060e+06</td>\n",
       "    </tr>\n",
       "    <tr>\n",
       "      <th>std</th>\n",
       "      <td>0.079627</td>\n",
       "      <td>0.087761</td>\n",
       "      <td>3.077869e+04</td>\n",
       "    </tr>\n",
       "    <tr>\n",
       "      <th>min</th>\n",
       "      <td>40.502876</td>\n",
       "      <td>-74.251366</td>\n",
       "      <td>3.586477e+06</td>\n",
       "    </tr>\n",
       "    <tr>\n",
       "      <th>25%</th>\n",
       "      <td>40.668266</td>\n",
       "      <td>-73.976104</td>\n",
       "      <td>3.654478e+06</td>\n",
       "    </tr>\n",
       "    <tr>\n",
       "      <th>50%</th>\n",
       "      <td>40.722370</td>\n",
       "      <td>-73.927420</td>\n",
       "      <td>3.681056e+06</td>\n",
       "    </tr>\n",
       "    <tr>\n",
       "      <th>75%</th>\n",
       "      <td>40.771722</td>\n",
       "      <td>-73.865250</td>\n",
       "      <td>3.707660e+06</td>\n",
       "    </tr>\n",
       "    <tr>\n",
       "      <th>max</th>\n",
       "      <td>40.912884</td>\n",
       "      <td>-73.700584</td>\n",
       "      <td>3.735242e+06</td>\n",
       "    </tr>\n",
       "  </tbody>\n",
       "</table>\n",
       "</div>"
      ],
      "text/plain": [
       "           latitude     longitude     uniquekey\n",
       "count  99934.000000  99934.000000  9.993400e+04\n",
       "mean      40.724711    -73.920809  3.681060e+06\n",
       "std        0.079627      0.087761  3.077869e+04\n",
       "min       40.502876    -74.251366  3.586477e+06\n",
       "25%       40.668266    -73.976104  3.654478e+06\n",
       "50%       40.722370    -73.927420  3.681056e+06\n",
       "75%       40.771722    -73.865250  3.707660e+06\n",
       "max       40.912884    -73.700584  3.735242e+06"
      ]
     },
     "execution_count": 38,
     "metadata": {},
     "output_type": "execute_result"
    }
   ],
   "source": [
    "latitude_median = df.latitude.median()\n",
    "longitude_median = df.longitude.median()\n",
    "\n",
    "df = df[(df.latitude > 0) & (df.latitude < 41) & (df.longitude > -74.4) & (df.longitude < -50 )]\n",
    "\n",
    "print(f\"Minimum Latitude: {df.latitude.min()}\")\n",
    "print(f\"Minimum Longitude: {df.longitude.min()}\")\n",
    "print(f\"Maximum Latitude: {df.latitude.max()}\")\n",
    "print(f\"Maximum Longitude: {df.longitude.max()}\")\n",
    "print()\n",
    "print(f\"Median Latitude: {df.latitude.median()}\")\n",
    "print(f\"Median Longitude: {df.longitude.median()}\")\n",
    "\n",
    "df.describe()"
   ]
  },
  {
   "cell_type": "markdown",
   "metadata": {},
   "source": [
    "## Clustering\n",
    "\n",
    "### Extract Coordinates"
   ]
  },
  {
   "cell_type": "code",
   "execution_count": 40,
   "metadata": {},
   "outputs": [
    {
     "data": {
      "text/plain": [
       "array([[ 40.612034, -73.94272 ],\n",
       "       [ 40.758564, -73.98312 ],\n",
       "       [ 40.66798 , -73.77432 ],\n",
       "       ...,\n",
       "       [ 40.77883 , -73.9761  ],\n",
       "       [ 40.88814 , -73.89277 ],\n",
       "       [ 40.68115 , -74.00458 ]])"
      ]
     },
     "execution_count": 40,
     "metadata": {},
     "output_type": "execute_result"
    }
   ],
   "source": [
    "coords = df.values[:, [0, 1]]\n",
    "coords"
   ]
  },
  {
   "cell_type": "code",
   "execution_count": 41,
   "metadata": {},
   "outputs": [
    {
     "data": {
      "text/plain": [
       "99934"
      ]
     },
     "execution_count": 41,
     "metadata": {},
     "output_type": "execute_result"
    }
   ],
   "source": [
    "len(coords)"
   ]
  },
  {
   "cell_type": "markdown",
   "metadata": {},
   "source": [
    "## Clustering "
   ]
  },
  {
   "cell_type": "code",
   "execution_count": 8,
   "metadata": {},
   "outputs": [
    {
     "data": {
      "text/plain": [
       "DBSCAN(eps=0.00017265711514948782, metric='haversine', min_samples=13)"
      ]
     },
     "execution_count": 8,
     "metadata": {},
     "output_type": "execute_result"
    }
   ],
   "source": [
    "kms_per_radian = 6371.0088\n",
    "epsilon = 1.1 / kms_per_radian\n",
    "MINIMUM_SAMPLES = 13\n",
    "\n",
    "db_scan = DBSCAN(eps=epsilon, metric=\"haversine\", min_samples=MINIMUM_SAMPLES)\n",
    "db_scan"
   ]
  },
  {
   "cell_type": "code",
   "execution_count": 9,
   "metadata": {},
   "outputs": [
    {
     "data": {
      "text/plain": [
       "DBSCAN(eps=0.00017265711514948782, metric='haversine', min_samples=13)"
      ]
     },
     "execution_count": 9,
     "metadata": {},
     "output_type": "execute_result"
    }
   ],
   "source": [
    "db = db_scan.fit(np.radians(coords))\n",
    "db"
   ]
  },
  {
   "cell_type": "code",
   "execution_count": 10,
   "metadata": {},
   "outputs": [
    {
     "name": "stdout",
     "output_type": "stream",
     "text": [
      "{0, 1, 2, 3, -1}\n"
     ]
    }
   ],
   "source": [
    "cluster_labels = db.labels_\n",
    "print(set(cluster_labels))"
   ]
  },
  {
   "cell_type": "code",
   "execution_count": 11,
   "metadata": {},
   "outputs": [
    {
     "name": "stdout",
     "output_type": "stream",
     "text": [
      "5\n"
     ]
    }
   ],
   "source": [
    "num_clusters = len(set(cluster_labels))\n",
    "print(num_clusters)"
   ]
  },
  {
   "cell_type": "code",
   "execution_count": 12,
   "metadata": {},
   "outputs": [
    {
     "data": {
      "text/plain": [
       "0    [[40.612034, -73.94272], [40.758564, -73.98312...\n",
       "1    [[40.564304, -74.11596999999999], [40.530132, ...\n",
       "2    [[40.6004, -73.75091], [40.587418, -73.8123], ...\n",
       "3    [[40.86569, -73.80516], [40.86569, -73.80516],...\n",
       "4                                                   []\n",
       "dtype: object"
      ]
     },
     "execution_count": 12,
     "metadata": {},
     "output_type": "execute_result"
    }
   ],
   "source": [
    "clusters = pd.Series([coords[cluster_labels == n] for n in range(num_clusters)])\n",
    "clusters"
   ]
  },
  {
   "cell_type": "markdown",
   "metadata": {},
   "source": [
    "## Visualize clusters"
   ]
  },
  {
   "cell_type": "code",
   "execution_count": 17,
   "metadata": {},
   "outputs": [
    {
     "name": "stdout",
     "output_type": "stream",
     "text": [
      "Size of cluster 0: 93620\n",
      "Size of cluster 1: 5342\n",
      "Size of cluster 2: 890\n",
      "Size of cluster 3: 63\n",
      "Size of cluster 4: 0\n",
      "Biggest cluster size: 93620\n"
     ]
    },
    {
     "data": {
      "image/png": "[encoded data removed]",
      "text/plain": [
       "<Figure size 432x288 with 1 Axes>"
      ]
     },
     "metadata": {
      "needs_background": "light"
     },
     "output_type": "display_data"
    }
   ],
   "source": [
    "%matplotlib inline\n",
    "\n",
    "for i in range(0,len(clusters)):\n",
    "    print(f\"Size of cluster {i}: {len(clusters[i])}\")\n",
    "    plot.scatter(clusters[i][:,0],clusters[i][:,1], alpha=0.5)\n",
    "\n",
    "maxium_cluster_size=max(len(x) for x in clusters)\n",
    "print(f\"Biggest cluster size: {maxium_cluster_size}\")"
   ]
  },
  {
   "cell_type": "markdown",
   "metadata": {},
   "source": [
    "## Playing with parameters"
   ]
  },
  {
   "cell_type": "code",
   "execution_count": 71,
   "metadata": {},
   "outputs": [
    {
     "name": "stdout",
     "output_type": "stream",
     "text": [
      "Size of cluster 0: 31866\n",
      "Size of cluster 1: 1447\n",
      "Size of cluster 2: 20531\n",
      "Size of cluster 3: 4845\n",
      "Size of cluster 4: 209\n",
      "Size of cluster 5: 398\n",
      "Size of cluster 6: 634\n",
      "Size of cluster 7: 145\n",
      "Size of cluster 8: 171\n",
      "Size of cluster 9: 135\n",
      "Size of cluster 10: 33\n",
      "Size of cluster 11: 2251\n",
      "Size of cluster 12: 224\n",
      "Size of cluster 13: 129\n",
      "Size of cluster 14: 1437\n",
      "Size of cluster 15: 31\n",
      "Size of cluster 16: 156\n",
      "Size of cluster 17: 44\n",
      "Size of cluster 18: 132\n",
      "Size of cluster 19: 65\n",
      "Size of cluster 20: 2197\n",
      "Size of cluster 21: 96\n",
      "Size of cluster 22: 83\n",
      "Size of cluster 23: 23\n",
      "Size of cluster 24: 80\n",
      "Size of cluster 25: 1322\n",
      "Size of cluster 26: 451\n",
      "Size of cluster 27: 53\n",
      "Size of cluster 28: 501\n",
      "Size of cluster 29: 178\n",
      "Size of cluster 30: 229\n",
      "Size of cluster 31: 111\n",
      "Size of cluster 32: 140\n",
      "Size of cluster 33: 24\n",
      "Size of cluster 34: 84\n",
      "Size of cluster 35: 30\n",
      "Size of cluster 36: 23\n",
      "Size of cluster 37: 101\n",
      "Size of cluster 38: 41\n",
      "Size of cluster 39: 84\n",
      "Size of cluster 40: 52\n",
      "Size of cluster 41: 206\n",
      "Size of cluster 42: 292\n",
      "Size of cluster 43: 61\n",
      "Size of cluster 44: 237\n",
      "Size of cluster 45: 68\n",
      "Size of cluster 46: 99\n",
      "Size of cluster 47: 945\n",
      "Size of cluster 48: 68\n",
      "Size of cluster 49: 615\n",
      "Size of cluster 50: 173\n",
      "Size of cluster 51: 42\n",
      "Size of cluster 52: 143\n",
      "Size of cluster 53: 89\n",
      "Size of cluster 54: 64\n",
      "Size of cluster 55: 181\n",
      "Size of cluster 56: 295\n",
      "Size of cluster 57: 56\n",
      "Size of cluster 58: 276\n",
      "Size of cluster 59: 82\n",
      "Size of cluster 60: 48\n",
      "Size of cluster 61: 52\n",
      "Size of cluster 62: 106\n",
      "Size of cluster 63: 330\n",
      "Size of cluster 64: 56\n",
      "Size of cluster 65: 310\n",
      "Size of cluster 66: 127\n",
      "Size of cluster 67: 36\n",
      "Size of cluster 68: 31\n",
      "Size of cluster 69: 141\n",
      "Size of cluster 70: 189\n",
      "Size of cluster 71: 61\n",
      "Size of cluster 72: 112\n",
      "Size of cluster 73: 806\n",
      "Size of cluster 74: 66\n",
      "Size of cluster 75: 81\n",
      "Size of cluster 76: 65\n",
      "Size of cluster 77: 48\n",
      "Size of cluster 78: 80\n",
      "Size of cluster 79: 65\n",
      "Size of cluster 80: 30\n",
      "Size of cluster 81: 188\n",
      "Size of cluster 82: 110\n",
      "Size of cluster 83: 38\n",
      "Size of cluster 84: 81\n",
      "Size of cluster 85: 26\n",
      "Size of cluster 86: 14\n",
      "Size of cluster 87: 26\n",
      "Size of cluster 88: 87\n",
      "Size of cluster 89: 13\n",
      "Size of cluster 90: 67\n",
      "Size of cluster 91: 274\n",
      "Size of cluster 92: 76\n",
      "Size of cluster 93: 123\n",
      "Size of cluster 94: 42\n",
      "Size of cluster 95: 45\n",
      "Size of cluster 96: 131\n",
      "Size of cluster 97: 69\n",
      "Size of cluster 98: 59\n",
      "Size of cluster 99: 21\n",
      "Size of cluster 100: 58\n",
      "Size of cluster 101: 52\n",
      "Size of cluster 102: 72\n",
      "Size of cluster 103: 21\n",
      "Size of cluster 104: 56\n",
      "Size of cluster 105: 34\n",
      "Size of cluster 106: 40\n",
      "Size of cluster 107: 38\n",
      "Size of cluster 108: 41\n",
      "Size of cluster 109: 140\n",
      "Size of cluster 110: 192\n",
      "Size of cluster 111: 139\n",
      "Size of cluster 112: 62\n",
      "Size of cluster 113: 55\n",
      "Size of cluster 114: 41\n",
      "Size of cluster 115: 121\n",
      "Size of cluster 116: 91\n",
      "Size of cluster 117: 39\n",
      "Size of cluster 118: 28\n",
      "Size of cluster 119: 45\n",
      "Size of cluster 120: 22\n",
      "Size of cluster 121: 88\n",
      "Size of cluster 122: 11\n",
      "Size of cluster 123: 9\n",
      "Size of cluster 124: 184\n",
      "Size of cluster 125: 23\n",
      "Size of cluster 126: 46\n",
      "Size of cluster 127: 15\n",
      "Size of cluster 128: 134\n",
      "Size of cluster 129: 87\n",
      "Size of cluster 130: 18\n",
      "Size of cluster 131: 160\n",
      "Size of cluster 132: 35\n",
      "Size of cluster 133: 25\n",
      "Size of cluster 134: 29\n",
      "Size of cluster 135: 61\n",
      "Size of cluster 136: 93\n",
      "Size of cluster 137: 37\n",
      "Size of cluster 138: 45\n",
      "Size of cluster 139: 112\n",
      "Size of cluster 140: 80\n",
      "Size of cluster 141: 42\n",
      "Size of cluster 142: 23\n",
      "Size of cluster 143: 49\n",
      "Size of cluster 144: 36\n",
      "Size of cluster 145: 50\n",
      "Size of cluster 146: 21\n",
      "Size of cluster 147: 27\n",
      "Size of cluster 148: 21\n",
      "Size of cluster 149: 54\n",
      "Size of cluster 150: 106\n",
      "Size of cluster 151: 66\n",
      "Size of cluster 152: 72\n",
      "Size of cluster 153: 67\n",
      "Size of cluster 154: 64\n",
      "Size of cluster 155: 76\n",
      "Size of cluster 156: 36\n",
      "Size of cluster 157: 47\n",
      "Size of cluster 158: 34\n",
      "Size of cluster 159: 27\n",
      "Size of cluster 160: 92\n",
      "Size of cluster 161: 29\n",
      "Size of cluster 162: 56\n",
      "Size of cluster 163: 56\n",
      "Size of cluster 164: 90\n",
      "Size of cluster 165: 20\n",
      "Size of cluster 166: 52\n",
      "Size of cluster 167: 40\n",
      "Size of cluster 168: 33\n",
      "Size of cluster 169: 164\n",
      "Size of cluster 170: 62\n",
      "Size of cluster 171: 50\n",
      "Size of cluster 172: 22\n",
      "Size of cluster 173: 43\n",
      "Size of cluster 174: 37\n",
      "Size of cluster 175: 34\n",
      "Size of cluster 176: 20\n",
      "Size of cluster 177: 89\n",
      "Size of cluster 178: 30\n",
      "Size of cluster 179: 74\n",
      "Size of cluster 180: 59\n",
      "Size of cluster 181: 24\n",
      "Size of cluster 182: 37\n",
      "Size of cluster 183: 31\n",
      "Size of cluster 184: 32\n",
      "Size of cluster 185: 27\n",
      "Size of cluster 186: 48\n",
      "Size of cluster 187: 39\n",
      "Size of cluster 188: 47\n",
      "Size of cluster 189: 31\n",
      "Size of cluster 190: 28\n",
      "Size of cluster 191: 64\n",
      "Size of cluster 192: 43\n",
      "Size of cluster 193: 15\n",
      "Size of cluster 194: 24\n",
      "Size of cluster 195: 34\n",
      "Size of cluster 196: 44\n",
      "Size of cluster 197: 25\n",
      "Size of cluster 198: 21\n",
      "Size of cluster 199: 62\n",
      "Size of cluster 200: 26\n",
      "Size of cluster 201: 28\n",
      "Size of cluster 202: 22\n",
      "Size of cluster 203: 27\n",
      "Size of cluster 204: 33\n",
      "Size of cluster 205: 36\n",
      "Size of cluster 206: 34\n",
      "Size of cluster 207: 40\n",
      "Size of cluster 208: 20\n",
      "Size of cluster 209: 43\n",
      "Size of cluster 210: 45\n",
      "Size of cluster 211: 32\n",
      "Size of cluster 212: 70\n",
      "Size of cluster 213: 22\n",
      "Size of cluster 214: 34\n",
      "Size of cluster 215: 39\n",
      "Size of cluster 216: 56\n",
      "Size of cluster 217: 38\n",
      "Size of cluster 218: 23\n",
      "Size of cluster 219: 28\n",
      "Size of cluster 220: 21\n",
      "Size of cluster 221: 26\n",
      "Size of cluster 222: 33\n",
      "Size of cluster 223: 14\n",
      "Size of cluster 224: 44\n",
      "Size of cluster 225: 23\n",
      "Size of cluster 226: 40\n",
      "Size of cluster 227: 11\n",
      "Size of cluster 228: 23\n",
      "Size of cluster 229: 10\n",
      "Size of cluster 230: 13\n",
      "Size of cluster 231: 18\n",
      "Size of cluster 232: 27\n",
      "Size of cluster 233: 23\n",
      "Size of cluster 234: 30\n",
      "Size of cluster 235: 20\n",
      "Size of cluster 236: 16\n",
      "Size of cluster 237: 29\n",
      "Size of cluster 238: 26\n",
      "Size of cluster 239: 22\n",
      "Size of cluster 240: 35\n",
      "Size of cluster 241: 58\n",
      "Size of cluster 242: 68\n",
      "Size of cluster 243: 37\n",
      "Size of cluster 244: 46\n",
      "Size of cluster 245: 21\n",
      "Size of cluster 246: 28\n",
      "Size of cluster 247: 22\n",
      "Size of cluster 248: 29\n",
      "Size of cluster 249: 22\n",
      "Size of cluster 250: 16\n",
      "Size of cluster 251: 21\n",
      "Size of cluster 252: 26\n",
      "Size of cluster 253: 24\n",
      "Size of cluster 254: 21\n",
      "Size of cluster 255: 37\n",
      "Size of cluster 256: 24\n",
      "Size of cluster 257: 29\n",
      "Size of cluster 258: 26\n",
      "Size of cluster 259: 22\n",
      "Size of cluster 260: 24\n",
      "Size of cluster 261: 33\n",
      "Size of cluster 262: 19\n",
      "Size of cluster 263: 8\n",
      "Size of cluster 264: 22\n",
      "Size of cluster 265: 12\n",
      "Size of cluster 266: 16\n",
      "Size of cluster 267: 23\n",
      "Size of cluster 268: 15\n",
      "Size of cluster 269: 28\n",
      "Size of cluster 270: 14\n",
      "Size of cluster 271: 6\n",
      "Size of cluster 272: 31\n",
      "Size of cluster 273: 31\n",
      "Size of cluster 274: 15\n",
      "Size of cluster 275: 20\n",
      "Size of cluster 276: 27\n",
      "Size of cluster 277: 20\n",
      "Size of cluster 278: 29\n",
      "Size of cluster 279: 5\n",
      "Size of cluster 280: 26\n",
      "Size of cluster 281: 10\n",
      "Size of cluster 282: 17\n",
      "Size of cluster 283: 11\n",
      "Size of cluster 284: 7\n",
      "Size of cluster 285: 15\n",
      "Size of cluster 286: 12\n",
      "Size of cluster 287: 22\n",
      "Size of cluster 288: 16\n",
      "Size of cluster 289: 14\n",
      "Size of cluster 290: 20\n",
      "Size of cluster 291: 9\n",
      "Size of cluster 292: 27\n",
      "Size of cluster 293: 18\n",
      "Size of cluster 294: 12\n",
      "Size of cluster 295: 25\n",
      "Size of cluster 296: 21\n",
      "Size of cluster 297: 21\n",
      "Size of cluster 298: 22\n",
      "Size of cluster 299: 17\n",
      "Size of cluster 300: 15\n",
      "Size of cluster 301: 21\n",
      "Size of cluster 302: 27\n",
      "Size of cluster 303: 16\n",
      "Size of cluster 304: 14\n",
      "Size of cluster 305: 9\n",
      "Size of cluster 306: 18\n",
      "Size of cluster 307: 18\n",
      "Size of cluster 308: 20\n",
      "Size of cluster 309: 10\n",
      "Size of cluster 310: 0\n",
      "Biggest cluster size: 31866\n"
     ]
    }
   ],
   "source": [
    "%matplotlib qt\n",
    "\n",
    "KMS_PER_RADIAN = 6371.0088\n",
    "MINIMUM_SAMPLES = 20\n",
    "\n",
    "epsilon = 0.2 / KMS_PER_RADIAN\n",
    "\n",
    "db_scan = DBSCAN(eps=epsilon, metric=\"haversine\", min_samples=MINIMUM_SAMPLES)\n",
    "db = db_scan.fit(np.radians(coords))\n",
    "cluster_labels = db.labels_\n",
    "num_clusters = len(set(cluster_labels))\n",
    "clusters = pd.Series([coords[cluster_labels == n] for n in range(num_clusters)])\n",
    "\n",
    "for i in range(0,len(clusters)):\n",
    "    print(f\"Size of cluster {i}: {len(clusters[i])}\")\n",
    "    plot.scatter(clusters[i][:,0],clusters[i][:,1], alpha=0.1, s=3)\n",
    "\n",
    "maxium_cluster_size=max(len(x) for x in clusters)\n",
    "print(f\"Biggest cluster size: {maxium_cluster_size}\")"
   ]
  },
  {
   "cell_type": "code",
   "execution_count": 55,
   "metadata": {},
   "outputs": [
    {
     "data": {
      "text/plain": [
       "array([[ 40.612034, -73.94272 ],\n",
       "       [ 40.758564, -73.98312 ],\n",
       "       [ 40.66798 , -73.77432 ],\n",
       "       ...,\n",
       "       [ 40.77883 , -73.9761  ],\n",
       "       [ 40.88814 , -73.89277 ],\n",
       "       [ 40.68115 , -74.00458 ]])"
      ]
     },
     "execution_count": 55,
     "metadata": {},
     "output_type": "execute_result"
    }
   ],
   "source": [
    "coords"
   ]
  },
  {
   "cell_type": "code",
   "execution_count": 52,
   "metadata": {},
   "outputs": [
    {
     "name": "stdout",
     "output_type": "stream",
     "text": [
      "1\n",
      "1\n"
     ]
    },
    {
     "data": {
      "image/png": "[encoded data removed]",
      "text/plain": [
       "<Figure size 1440x1080 with 1 Axes>"
      ]
     },
     "metadata": {
      "needs_background": "light"
     },
     "output_type": "display_data"
    }
   ],
   "source": [
    "epsilons = [x / KMS_PER_RADIAN for x in [1.1]]\n",
    "min_samples = [3]\n",
    "\n",
    "#eps = [0.004, 0.005]   # unit: latitude/longitude\n",
    "#min_sample = [3, 4, 5]\n",
    "\n",
    "n1, n2 = len(epsilons), len(min_samples)\n",
    "plt.subplots(nrows=n1, ncols=n2, figsize=(20, 15))\n",
    "\n",
    "print(n1)\n",
    "print(n2)\n",
    "\n",
    "for i in range(n1):\n",
    "    for j in range(n2):\n",
    "        est = DBSCAN(eps=epsilons[i], min_samples=min_samples[j], metric=\"haversine\").fit(coords)\n",
    "        ax = plt.subplot(n1, n2, n2*i+j+1)\n",
    "        ax.set_title(f\"DBSCAN ('euclidean', eps={epsilons[i]}, min_sample={min_samples[j]})\")"
   ]
  }
 ],
 "metadata": {
  "kernelspec": {
   "display_name": "Python 3",
   "language": "python",
   "name": "python3"
  },
  "language_info": {
   "codemirror_mode": {
    "name": "ipython",
    "version": 3
   },
   "file_extension": ".py",
   "mimetype": "text/x-python",
   "name": "python",
   "nbconvert_exporter": "python",
   "pygments_lexer": "ipython3",
   "version": "3.8.6"
  }
 },
 "nbformat": 4,
 "nbformat_minor": 4
}
