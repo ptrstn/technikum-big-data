{
 "cells": [
  {
   "cell_type": "markdown",
   "metadata": {
    "collapsed": true
   },
   "source": [
    "# Wikipedia Text Segmentation\n",
    "\n",
    "This notebook analyzes the words of a chinese wikipedia article\n",
    "\n",
    "The most viewed chineze wikipedia articles of 2019 are described here:\n",
    "\n",
    "https://pageviews.toolforge.org/topviews/?project=zh.wikipedia.org&platform=all-access&date=last-year&excludes=\n",
    "\n",
    "The article \"六四事件\" (1989 Tiananmen Square protests/ Tiananmen Square massacre) is the most viewed article of 2019 with 4.196.884 hits."
   ]
  },
  {
   "cell_type": "code",
   "execution_count": 1,
   "metadata": {},
   "outputs": [],
   "source": [
    "from bigchina.analyzer import segment_wikipedia_article"
   ]
  },
  {
   "cell_type": "code",
   "execution_count": 11,
   "metadata": {},
   "outputs": [
    {
     "data": {
      "text/html": [
       "<div>\n",
       "<style scoped>\n",
       "    .dataframe tbody tr th:only-of-type {\n",
       "        vertical-align: middle;\n",
       "    }\n",
       "\n",
       "    .dataframe tbody tr th {\n",
       "        vertical-align: top;\n",
       "    }\n",
       "\n",
       "    .dataframe thead th {\n",
       "        text-align: right;\n",
       "    }\n",
       "</style>\n",
       "<table border=\"1\" class=\"dataframe\">\n",
       "  <thead>\n",
       "    <tr style=\"text-align: right;\">\n",
       "      <th></th>\n",
       "      <th>segment</th>\n",
       "      <th>characteristic</th>\n",
       "      <th>is_punctuation</th>\n",
       "      <th>sentence</th>\n",
       "      <th>sentence_word_id</th>\n",
       "    </tr>\n",
       "  </thead>\n",
       "  <tbody>\n",
       "    <tr>\n",
       "      <th>0</th>\n",
       "      <td>六四</td>\n",
       "      <td>numeral</td>\n",
       "      <td>False</td>\n",
       "      <td>0</td>\n",
       "      <td>0</td>\n",
       "    </tr>\n",
       "    <tr>\n",
       "      <th>1</th>\n",
       "      <td>事件</td>\n",
       "      <td>noun</td>\n",
       "      <td>False</td>\n",
       "      <td>0</td>\n",
       "      <td>1</td>\n",
       "    </tr>\n",
       "    <tr>\n",
       "      <th>2</th>\n",
       "      <td>，</td>\n",
       "      <td>punctuation mark</td>\n",
       "      <td>True</td>\n",
       "      <td>1</td>\n",
       "      <td>0</td>\n",
       "    </tr>\n",
       "    <tr>\n",
       "      <th>3</th>\n",
       "      <td>又</td>\n",
       "      <td>adverb</td>\n",
       "      <td>False</td>\n",
       "      <td>1</td>\n",
       "      <td>1</td>\n",
       "    </tr>\n",
       "    <tr>\n",
       "      <th>4</th>\n",
       "      <td>稱</td>\n",
       "      <td>punctuation mark</td>\n",
       "      <td>True</td>\n",
       "      <td>2</td>\n",
       "      <td>0</td>\n",
       "    </tr>\n",
       "    <tr>\n",
       "      <th>...</th>\n",
       "      <td>...</td>\n",
       "      <td>...</td>\n",
       "      <td>...</td>\n",
       "      <td>...</td>\n",
       "      <td>...</td>\n",
       "    </tr>\n",
       "    <tr>\n",
       "      <th>27940</th>\n",
       "      <td>War]</td>\n",
       "      <td>noun</td>\n",
       "      <td>False</td>\n",
       "      <td>11657</td>\n",
       "      <td>2</td>\n",
       "    </tr>\n",
       "    <tr>\n",
       "      <th>27941</th>\n",
       "      <td>\\nTemplate</td>\n",
       "      <td>noun</td>\n",
       "      <td>False</td>\n",
       "      <td>11657</td>\n",
       "      <td>3</td>\n",
       "    </tr>\n",
       "    <tr>\n",
       "      <th>27942</th>\n",
       "      <td>:</td>\n",
       "      <td>punctuation mark</td>\n",
       "      <td>True</td>\n",
       "      <td>11658</td>\n",
       "      <td>0</td>\n",
       "    </tr>\n",
       "    <tr>\n",
       "      <th>27943</th>\n",
       "      <td>Authority</td>\n",
       "      <td>noun</td>\n",
       "      <td>False</td>\n",
       "      <td>11658</td>\n",
       "      <td>1</td>\n",
       "    </tr>\n",
       "    <tr>\n",
       "      <th>27944</th>\n",
       "      <td>control</td>\n",
       "      <td>noun</td>\n",
       "      <td>False</td>\n",
       "      <td>11658</td>\n",
       "      <td>2</td>\n",
       "    </tr>\n",
       "  </tbody>\n",
       "</table>\n",
       "<p>27945 rows × 5 columns</p>\n",
       "</div>"
      ],
      "text/plain": [
       "          segment    characteristic  is_punctuation  sentence  \\\n",
       "0              六四           numeral           False         0   \n",
       "1              事件              noun           False         0   \n",
       "2               ，  punctuation mark            True         1   \n",
       "3               又            adverb           False         1   \n",
       "4               稱  punctuation mark            True         2   \n",
       "...           ...               ...             ...       ...   \n",
       "27940        War]              noun           False     11657   \n",
       "27941  \\nTemplate              noun           False     11657   \n",
       "27942           :  punctuation mark            True     11658   \n",
       "27943   Authority              noun           False     11658   \n",
       "27944     control              noun           False     11658   \n",
       "\n",
       "       sentence_word_id  \n",
       "0                     0  \n",
       "1                     1  \n",
       "2                     0  \n",
       "3                     1  \n",
       "4                     0  \n",
       "...                 ...  \n",
       "27940                 2  \n",
       "27941                 3  \n",
       "27942                 0  \n",
       "27943                 1  \n",
       "27944                 2  \n",
       "\n",
       "[27945 rows x 5 columns]"
      ]
     },
     "execution_count": 11,
     "metadata": {},
     "output_type": "execute_result"
    }
   ],
   "source": [
    "tiananmen = segment_wikipedia_article(title=\"六四事件\", language=\"zh\")\n",
    "tiananmen"
   ]
  },
  {
   "cell_type": "code",
   "execution_count": 3,
   "metadata": {},
   "outputs": [
    {
     "data": {
      "text/html": [
       "<div>\n",
       "<style scoped>\n",
       "    .dataframe tbody tr th:only-of-type {\n",
       "        vertical-align: middle;\n",
       "    }\n",
       "\n",
       "    .dataframe tbody tr th {\n",
       "        vertical-align: top;\n",
       "    }\n",
       "\n",
       "    .dataframe thead th {\n",
       "        text-align: right;\n",
       "    }\n",
       "</style>\n",
       "<table border=\"1\" class=\"dataframe\">\n",
       "  <thead>\n",
       "    <tr style=\"text-align: right;\">\n",
       "      <th></th>\n",
       "      <th>segment</th>\n",
       "      <th>characteristic</th>\n",
       "      <th>is_punctuation</th>\n",
       "      <th>sentence</th>\n",
       "      <th>sentence_word_id</th>\n",
       "    </tr>\n",
       "  </thead>\n",
       "  <tbody>\n",
       "    <tr>\n",
       "      <th>0</th>\n",
       "      <td>《</td>\n",
       "      <td>punctuation mark</td>\n",
       "      <td>True</td>\n",
       "      <td>0</td>\n",
       "      <td>0</td>\n",
       "    </tr>\n",
       "    <tr>\n",
       "      <th>1</th>\n",
       "      <td>延禧</td>\n",
       "      <td>noun</td>\n",
       "      <td>False</td>\n",
       "      <td>0</td>\n",
       "      <td>1</td>\n",
       "    </tr>\n",
       "    <tr>\n",
       "      <th>2</th>\n",
       "      <td>攻</td>\n",
       "      <td>verb</td>\n",
       "      <td>False</td>\n",
       "      <td>0</td>\n",
       "      <td>2</td>\n",
       "    </tr>\n",
       "    <tr>\n",
       "      <th>3</th>\n",
       "      <td>略</td>\n",
       "      <td>adverb</td>\n",
       "      <td>False</td>\n",
       "      <td>0</td>\n",
       "      <td>3</td>\n",
       "    </tr>\n",
       "    <tr>\n",
       "      <th>4</th>\n",
       "      <td>》</td>\n",
       "      <td>punctuation mark</td>\n",
       "      <td>True</td>\n",
       "      <td>2</td>\n",
       "      <td>0</td>\n",
       "    </tr>\n",
       "    <tr>\n",
       "      <th>...</th>\n",
       "      <td>...</td>\n",
       "      <td>...</td>\n",
       "      <td>...</td>\n",
       "      <td>...</td>\n",
       "      <td>...</td>\n",
       "    </tr>\n",
       "    <tr>\n",
       "      <th>2946</th>\n",
       "      <td>目的</td>\n",
       "      <td>noun</td>\n",
       "      <td>False</td>\n",
       "      <td>1029</td>\n",
       "      <td>1</td>\n",
       "    </tr>\n",
       "    <tr>\n",
       "      <th>2947</th>\n",
       "      <td>變</td>\n",
       "      <td>punctuation mark</td>\n",
       "      <td>True</td>\n",
       "      <td>1030</td>\n",
       "      <td>0</td>\n",
       "    </tr>\n",
       "    <tr>\n",
       "      <th>2948</th>\n",
       "      <td>遷</td>\n",
       "      <td>punctuation mark</td>\n",
       "      <td>True</td>\n",
       "      <td>1031</td>\n",
       "      <td>0</td>\n",
       "    </tr>\n",
       "    <tr>\n",
       "      <th>2949</th>\n",
       "      <td></td>\n",
       "      <td>None</td>\n",
       "      <td>False</td>\n",
       "      <td>1031</td>\n",
       "      <td>1</td>\n",
       "    </tr>\n",
       "    <tr>\n",
       "      <th>2950</th>\n",
       "      <td>==</td>\n",
       "      <td>numeral</td>\n",
       "      <td>False</td>\n",
       "      <td>1031</td>\n",
       "      <td>2</td>\n",
       "    </tr>\n",
       "  </tbody>\n",
       "</table>\n",
       "<p>2951 rows × 5 columns</p>\n",
       "</div>"
      ],
      "text/plain": [
       "     segment    characteristic  is_punctuation  sentence  sentence_word_id\n",
       "0          《  punctuation mark            True         0                 0\n",
       "1         延禧              noun           False         0                 1\n",
       "2          攻              verb           False         0                 2\n",
       "3          略            adverb           False         0                 3\n",
       "4          》  punctuation mark            True         2                 0\n",
       "...      ...               ...             ...       ...               ...\n",
       "2946      目的              noun           False      1029                 1\n",
       "2947       變  punctuation mark            True      1030                 0\n",
       "2948       遷  punctuation mark            True      1031                 0\n",
       "2949                      None           False      1031                 1\n",
       "2950      ==           numeral           False      1031                 2\n",
       "\n",
       "[2951 rows x 5 columns]"
      ]
     },
     "execution_count": 3,
     "metadata": {},
     "output_type": "execute_result"
    }
   ],
   "source": [
    "# most viewed article in 2018, tv series: Story of Yanxi Palace\n",
    "yanxi = segment_wikipedia_article(title=\"延禧攻略\")\n",
    "yanxi"
   ]
  },
  {
   "cell_type": "code",
   "execution_count": 4,
   "metadata": {},
   "outputs": [
    {
     "data": {
      "text/plain": [
       "punctuation mark        11595\n",
       "noun                     4708\n",
       "verb                     4186\n",
       "particle                 1138\n",
       "adverb                   1005\n",
       "preposition               968\n",
       "numeral                   736\n",
       "adjective                 620\n",
       "conjunction               585\n",
       "noun of locality          552\n",
       "time word                 538\n",
       "pronoun                   412\n",
       "classifier                403\n",
       "distinguishing word       235\n",
       "locative word              56\n",
       "multiword expression       25\n",
       "suffix                     15\n",
       "modal particle             14\n",
       "onomatopoeia                1\n",
       "Name: characteristic, dtype: int64"
      ]
     },
     "execution_count": 4,
     "metadata": {},
     "output_type": "execute_result"
    }
   ],
   "source": [
    "tiananmen.characteristic.value_counts()"
   ]
  },
  {
   "cell_type": "markdown",
   "metadata": {},
   "source": [
    "Most characters are punctuation marks. Since they are not interesting for now they can be filtered out:"
   ]
  },
  {
   "cell_type": "code",
   "execution_count": 12,
   "metadata": {},
   "outputs": [
    {
     "data": {
      "text/html": [
       "<div>\n",
       "<style scoped>\n",
       "    .dataframe tbody tr th:only-of-type {\n",
       "        vertical-align: middle;\n",
       "    }\n",
       "\n",
       "    .dataframe tbody tr th {\n",
       "        vertical-align: top;\n",
       "    }\n",
       "\n",
       "    .dataframe thead th {\n",
       "        text-align: right;\n",
       "    }\n",
       "</style>\n",
       "<table border=\"1\" class=\"dataframe\">\n",
       "  <thead>\n",
       "    <tr style=\"text-align: right;\">\n",
       "      <th></th>\n",
       "      <th>segment</th>\n",
       "      <th>characteristic</th>\n",
       "      <th>is_punctuation</th>\n",
       "      <th>sentence</th>\n",
       "      <th>sentence_word_id</th>\n",
       "    </tr>\n",
       "  </thead>\n",
       "  <tbody>\n",
       "    <tr>\n",
       "      <th>0</th>\n",
       "      <td>六四</td>\n",
       "      <td>numeral</td>\n",
       "      <td>False</td>\n",
       "      <td>0</td>\n",
       "      <td>0</td>\n",
       "    </tr>\n",
       "    <tr>\n",
       "      <th>1</th>\n",
       "      <td>事件</td>\n",
       "      <td>noun</td>\n",
       "      <td>False</td>\n",
       "      <td>0</td>\n",
       "      <td>1</td>\n",
       "    </tr>\n",
       "    <tr>\n",
       "      <th>3</th>\n",
       "      <td>又</td>\n",
       "      <td>adverb</td>\n",
       "      <td>False</td>\n",
       "      <td>1</td>\n",
       "      <td>1</td>\n",
       "    </tr>\n",
       "    <tr>\n",
       "      <th>5</th>\n",
       "      <td>六四</td>\n",
       "      <td>numeral</td>\n",
       "      <td>False</td>\n",
       "      <td>2</td>\n",
       "      <td>1</td>\n",
       "    </tr>\n",
       "    <tr>\n",
       "      <th>6</th>\n",
       "      <td>天安</td>\n",
       "      <td>noun</td>\n",
       "      <td>False</td>\n",
       "      <td>2</td>\n",
       "      <td>2</td>\n",
       "    </tr>\n",
       "    <tr>\n",
       "      <th>...</th>\n",
       "      <td>...</td>\n",
       "      <td>...</td>\n",
       "      <td>...</td>\n",
       "      <td>...</td>\n",
       "      <td>...</td>\n",
       "    </tr>\n",
       "    <tr>\n",
       "      <th>27939</th>\n",
       "      <td>[Cold</td>\n",
       "      <td>None</td>\n",
       "      <td>False</td>\n",
       "      <td>11657</td>\n",
       "      <td>1</td>\n",
       "    </tr>\n",
       "    <tr>\n",
       "      <th>27940</th>\n",
       "      <td>War]</td>\n",
       "      <td>noun</td>\n",
       "      <td>False</td>\n",
       "      <td>11657</td>\n",
       "      <td>2</td>\n",
       "    </tr>\n",
       "    <tr>\n",
       "      <th>27941</th>\n",
       "      <td>\\nTemplate</td>\n",
       "      <td>noun</td>\n",
       "      <td>False</td>\n",
       "      <td>11657</td>\n",
       "      <td>3</td>\n",
       "    </tr>\n",
       "    <tr>\n",
       "      <th>27943</th>\n",
       "      <td>Authority</td>\n",
       "      <td>noun</td>\n",
       "      <td>False</td>\n",
       "      <td>11658</td>\n",
       "      <td>1</td>\n",
       "    </tr>\n",
       "    <tr>\n",
       "      <th>27944</th>\n",
       "      <td>control</td>\n",
       "      <td>noun</td>\n",
       "      <td>False</td>\n",
       "      <td>11658</td>\n",
       "      <td>2</td>\n",
       "    </tr>\n",
       "  </tbody>\n",
       "</table>\n",
       "<p>16287 rows × 5 columns</p>\n",
       "</div>"
      ],
      "text/plain": [
       "          segment characteristic  is_punctuation  sentence  sentence_word_id\n",
       "0              六四        numeral           False         0                 0\n",
       "1              事件           noun           False         0                 1\n",
       "3               又         adverb           False         1                 1\n",
       "5              六四        numeral           False         2                 1\n",
       "6              天安           noun           False         2                 2\n",
       "...           ...            ...             ...       ...               ...\n",
       "27939       [Cold           None           False     11657                 1\n",
       "27940        War]           noun           False     11657                 2\n",
       "27941  \\nTemplate           noun           False     11657                 3\n",
       "27943   Authority           noun           False     11658                 1\n",
       "27944     control           noun           False     11658                 2\n",
       "\n",
       "[16287 rows x 5 columns]"
      ]
     },
     "execution_count": 12,
     "metadata": {},
     "output_type": "execute_result"
    }
   ],
   "source": [
    "tiananmen[tiananmen.characteristic != \"punctuation mark\"]"
   ]
  },
  {
   "cell_type": "code",
   "execution_count": 13,
   "metadata": {},
   "outputs": [
    {
     "data": {
      "text/plain": [
       "<AxesSubplot:xlabel='characteristic'>"
      ]
     },
     "execution_count": 13,
     "metadata": {},
     "output_type": "execute_result"
    },
    {
     "data": {
      "image/png": "[encoded data removed]",
      "text/plain": [
       "<Figure size 432x288 with 1 Axes>"
      ]
     },
     "metadata": {
      "needs_background": "light"
     },
     "output_type": "display_data"
    }
   ],
   "source": [
    "tiananmen.groupby(\"characteristic\")[\"segment\"].count().plot.bar()"
   ]
  },
  {
   "cell_type": "code",
   "execution_count": 14,
   "metadata": {},
   "outputs": [
    {
     "data": {
      "text/plain": [
       "<AxesSubplot:xlabel='characteristic'>"
      ]
     },
     "execution_count": 14,
     "metadata": {},
     "output_type": "execute_result"
    },
    {
     "data": {
      "image/png": "[encoded data removed]",
      "text/plain": [
       "<Figure size 432x288 with 1 Axes>"
      ]
     },
     "metadata": {
      "needs_background": "light"
     },
     "output_type": "display_data"
    }
   ],
   "source": [
    "yanxi.groupby(\"characteristic\")[\"segment\"].count().plot.bar()"
   ]
  },
  {
   "cell_type": "markdown",
   "metadata": {},
   "source": [
    "The distrubution of both articles looks very similar. Does this also apply to the most common words?"
   ]
  },
  {
   "cell_type": "code",
   "execution_count": 20,
   "metadata": {},
   "outputs": [
    {
     "data": {
      "text/plain": [
       "的     947\n",
       "在     375\n",
       "中     323\n",
       "生     253\n",
       "後     190\n",
       "有     161\n",
       "      156\n",
       "和     153\n",
       "而     151\n",
       "人     136\n",
       "大     135\n",
       "事件    126\n",
       "也     118\n",
       "行     118\n",
       "且     116\n",
       "Name: segment, dtype: int64"
      ]
     },
     "execution_count": 20,
     "metadata": {},
     "output_type": "execute_result"
    }
   ],
   "source": [
    "tiananmen = tiananmen[tiananmen.characteristic != \"punctuation mark\"]\n",
    "\n",
    "tiananmen.segment.value_counts().head(15)"
   ]
  },
  {
   "cell_type": "code",
   "execution_count": 22,
   "metadata": {},
   "outputs": [
    {
     "data": {
      "text/plain": [
       "         69\n",
       "的        68\n",
       "延禧       38\n",
       "攻        33\n",
       "略        33\n",
       "在        32\n",
       "是        19\n",
       "一        17\n",
       "中        16\n",
       "拍        15\n",
       "\\n==     14\n",
       "==       14\n",
       "集        13\n",
       "收        13\n",
       "於        12\n",
       "上        12\n",
       "\\n===    11\n",
       "作        11\n",
       "===      11\n",
       "等        11\n",
       "Name: segment, dtype: int64"
      ]
     },
     "execution_count": 22,
     "metadata": {},
     "output_type": "execute_result"
    }
   ],
   "source": [
    "yanxi = yanxi[yanxi.characteristic != \"punctuation mark\"]\n",
    "\n",
    "yanxi.segment.value_counts().head(20)"
   ]
  },
  {
   "cell_type": "markdown",
   "metadata": {},
   "source": [
    "In both articles the word \"的\" is the most frequently used one.\n",
    "The word \"在\" is similarly often used. The other words have a pretty similar distrubution.\n",
    "\n",
    "To get a better result, alot of wikipedia articles should be accumulated and then analyzed together."
   ]
  }
 ],
 "metadata": {
  "kernelspec": {
   "display_name": "Python 3",
   "language": "python",
   "name": "python3"
  },
  "language_info": {
   "codemirror_mode": {
    "name": "ipython",
    "version": 3
   },
   "file_extension": ".py",
   "mimetype": "text/x-python",
   "name": "python",
   "nbconvert_exporter": "python",
   "pygments_lexer": "ipython3",
   "version": "3.8.6"
  }
 },
 "nbformat": 4,
 "nbformat_minor": 1
}
