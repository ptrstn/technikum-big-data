{
 "cells": [
  {
   "cell_type": "markdown",
   "metadata": {
    "collapsed": true
   },
   "source": [
    "# Wikipedia Text Segmentation\n",
    "\n",
    "This notebook analyzes the words of a chinese wikipedia article\n",
    "\n",
    "The most viewed chineze wikipedia articles of 2019 are described here:\n",
    "\n",
    "https://pageviews.toolforge.org/topviews/?project=zh.wikipedia.org&platform=all-access&date=last-year&excludes=\n",
    "\n",
    "The article \"六四事件\" (1989 Tiananmen Square protests/ Tiananmen Square massacre) is the most viewed article of 2019 with 4.196.884 hits."
   ]
  },
  {
   "cell_type": "code",
   "execution_count": 1,
   "metadata": {},
   "outputs": [],
   "source": [
    "from bigchina.analyzer import segment_wikipedia_article"
   ]
  },
  {
   "cell_type": "code",
   "execution_count": 2,
   "metadata": {},
   "outputs": [
    {
     "data": {
      "text/html": [
       "<div>\n",
       "<style scoped>\n",
       "    .dataframe tbody tr th:only-of-type {\n",
       "        vertical-align: middle;\n",
       "    }\n",
       "\n",
       "    .dataframe tbody tr th {\n",
       "        vertical-align: top;\n",
       "    }\n",
       "\n",
       "    .dataframe thead th {\n",
       "        text-align: right;\n",
       "    }\n",
       "</style>\n",
       "<table border=\"1\" class=\"dataframe\">\n",
       "  <thead>\n",
       "    <tr style=\"text-align: right;\">\n",
       "      <th></th>\n",
       "      <th>segment</th>\n",
       "      <th>characteristic</th>\n",
       "      <th>is_punctuation</th>\n",
       "      <th>sentence</th>\n",
       "      <th>sentence_word_id</th>\n",
       "    </tr>\n",
       "  </thead>\n",
       "  <tbody>\n",
       "    <tr>\n",
       "      <th>0</th>\n",
       "      <td>六四</td>\n",
       "      <td>numeral</td>\n",
       "      <td>False</td>\n",
       "      <td>0</td>\n",
       "      <td>0</td>\n",
       "    </tr>\n",
       "    <tr>\n",
       "      <th>1</th>\n",
       "      <td>事件</td>\n",
       "      <td>noun</td>\n",
       "      <td>False</td>\n",
       "      <td>0</td>\n",
       "      <td>1</td>\n",
       "    </tr>\n",
       "    <tr>\n",
       "      <th>2</th>\n",
       "      <td>，</td>\n",
       "      <td>punctuation mark</td>\n",
       "      <td>True</td>\n",
       "      <td>1</td>\n",
       "      <td>0</td>\n",
       "    </tr>\n",
       "    <tr>\n",
       "      <th>3</th>\n",
       "      <td>又</td>\n",
       "      <td>conjunction</td>\n",
       "      <td>False</td>\n",
       "      <td>1</td>\n",
       "      <td>1</td>\n",
       "    </tr>\n",
       "    <tr>\n",
       "      <th>4</th>\n",
       "      <td>稱</td>\n",
       "      <td>noun</td>\n",
       "      <td>False</td>\n",
       "      <td>1</td>\n",
       "      <td>2</td>\n",
       "    </tr>\n",
       "    <tr>\n",
       "      <th>...</th>\n",
       "      <td>...</td>\n",
       "      <td>...</td>\n",
       "      <td>...</td>\n",
       "      <td>...</td>\n",
       "      <td>...</td>\n",
       "    </tr>\n",
       "    <tr>\n",
       "      <th>27950</th>\n",
       "      <td>War]</td>\n",
       "      <td>noun</td>\n",
       "      <td>False</td>\n",
       "      <td>11588</td>\n",
       "      <td>2</td>\n",
       "    </tr>\n",
       "    <tr>\n",
       "      <th>27951</th>\n",
       "      <td>Template</td>\n",
       "      <td>noun</td>\n",
       "      <td>False</td>\n",
       "      <td>11588</td>\n",
       "      <td>3</td>\n",
       "    </tr>\n",
       "    <tr>\n",
       "      <th>27952</th>\n",
       "      <td>:</td>\n",
       "      <td>punctuation mark</td>\n",
       "      <td>True</td>\n",
       "      <td>11589</td>\n",
       "      <td>0</td>\n",
       "    </tr>\n",
       "    <tr>\n",
       "      <th>27953</th>\n",
       "      <td>Authority</td>\n",
       "      <td>noun</td>\n",
       "      <td>False</td>\n",
       "      <td>11589</td>\n",
       "      <td>1</td>\n",
       "    </tr>\n",
       "    <tr>\n",
       "      <th>27954</th>\n",
       "      <td>control</td>\n",
       "      <td>noun</td>\n",
       "      <td>False</td>\n",
       "      <td>11589</td>\n",
       "      <td>2</td>\n",
       "    </tr>\n",
       "  </tbody>\n",
       "</table>\n",
       "<p>27793 rows × 5 columns</p>\n",
       "</div>"
      ],
      "text/plain": [
       "         segment    characteristic  is_punctuation  sentence  sentence_word_id\n",
       "0             六四           numeral           False         0                 0\n",
       "1             事件              noun           False         0                 1\n",
       "2              ，  punctuation mark            True         1                 0\n",
       "3              又       conjunction           False         1                 1\n",
       "4              稱              noun           False         1                 2\n",
       "...          ...               ...             ...       ...               ...\n",
       "27950       War]              noun           False     11588                 2\n",
       "27951   Template              noun           False     11588                 3\n",
       "27952          :  punctuation mark            True     11589                 0\n",
       "27953  Authority              noun           False     11589                 1\n",
       "27954    control              noun           False     11589                 2\n",
       "\n",
       "[27793 rows x 5 columns]"
      ]
     },
     "execution_count": 2,
     "metadata": {},
     "output_type": "execute_result"
    }
   ],
   "source": [
    "tiananmen = segment_wikipedia_article(title=\"六四事件\", language=\"zh\")\n",
    "tiananmen"
   ]
  },
  {
   "cell_type": "code",
   "execution_count": 3,
   "metadata": {},
   "outputs": [
    {
     "data": {
      "text/html": [
       "<div>\n",
       "<style scoped>\n",
       "    .dataframe tbody tr th:only-of-type {\n",
       "        vertical-align: middle;\n",
       "    }\n",
       "\n",
       "    .dataframe tbody tr th {\n",
       "        vertical-align: top;\n",
       "    }\n",
       "\n",
       "    .dataframe thead th {\n",
       "        text-align: right;\n",
       "    }\n",
       "</style>\n",
       "<table border=\"1\" class=\"dataframe\">\n",
       "  <thead>\n",
       "    <tr style=\"text-align: right;\">\n",
       "      <th></th>\n",
       "      <th>segment</th>\n",
       "      <th>characteristic</th>\n",
       "      <th>is_punctuation</th>\n",
       "      <th>sentence</th>\n",
       "      <th>sentence_word_id</th>\n",
       "    </tr>\n",
       "  </thead>\n",
       "  <tbody>\n",
       "    <tr>\n",
       "      <th>0</th>\n",
       "      <td>《</td>\n",
       "      <td>punctuation mark</td>\n",
       "      <td>True</td>\n",
       "      <td>0</td>\n",
       "      <td>0</td>\n",
       "    </tr>\n",
       "    <tr>\n",
       "      <th>1</th>\n",
       "      <td>延禧</td>\n",
       "      <td>noun</td>\n",
       "      <td>False</td>\n",
       "      <td>0</td>\n",
       "      <td>1</td>\n",
       "    </tr>\n",
       "    <tr>\n",
       "      <th>2</th>\n",
       "      <td>攻</td>\n",
       "      <td>verb</td>\n",
       "      <td>False</td>\n",
       "      <td>0</td>\n",
       "      <td>2</td>\n",
       "    </tr>\n",
       "    <tr>\n",
       "      <th>3</th>\n",
       "      <td>略</td>\n",
       "      <td>adverb</td>\n",
       "      <td>False</td>\n",
       "      <td>0</td>\n",
       "      <td>3</td>\n",
       "    </tr>\n",
       "    <tr>\n",
       "      <th>4</th>\n",
       "      <td>》</td>\n",
       "      <td>punctuation mark</td>\n",
       "      <td>True</td>\n",
       "      <td>2</td>\n",
       "      <td>0</td>\n",
       "    </tr>\n",
       "    <tr>\n",
       "      <th>...</th>\n",
       "      <td>...</td>\n",
       "      <td>...</td>\n",
       "      <td>...</td>\n",
       "      <td>...</td>\n",
       "      <td>...</td>\n",
       "    </tr>\n",
       "    <tr>\n",
       "      <th>2945</th>\n",
       "      <td>節</td>\n",
       "      <td>punctuation mark</td>\n",
       "      <td>True</td>\n",
       "      <td>1026</td>\n",
       "      <td>0</td>\n",
       "    </tr>\n",
       "    <tr>\n",
       "      <th>2946</th>\n",
       "      <td>目的</td>\n",
       "      <td>noun</td>\n",
       "      <td>False</td>\n",
       "      <td>1026</td>\n",
       "      <td>1</td>\n",
       "    </tr>\n",
       "    <tr>\n",
       "      <th>2947</th>\n",
       "      <td>變</td>\n",
       "      <td>punctuation mark</td>\n",
       "      <td>True</td>\n",
       "      <td>1027</td>\n",
       "      <td>0</td>\n",
       "    </tr>\n",
       "    <tr>\n",
       "      <th>2948</th>\n",
       "      <td>遷</td>\n",
       "      <td>punctuation mark</td>\n",
       "      <td>True</td>\n",
       "      <td>1028</td>\n",
       "      <td>0</td>\n",
       "    </tr>\n",
       "    <tr>\n",
       "      <th>2950</th>\n",
       "      <td>==</td>\n",
       "      <td>numeral</td>\n",
       "      <td>False</td>\n",
       "      <td>1028</td>\n",
       "      <td>1</td>\n",
       "    </tr>\n",
       "  </tbody>\n",
       "</table>\n",
       "<p>2879 rows × 5 columns</p>\n",
       "</div>"
      ],
      "text/plain": [
       "     segment    characteristic  is_punctuation  sentence  sentence_word_id\n",
       "0          《  punctuation mark            True         0                 0\n",
       "1         延禧              noun           False         0                 1\n",
       "2          攻              verb           False         0                 2\n",
       "3          略            adverb           False         0                 3\n",
       "4          》  punctuation mark            True         2                 0\n",
       "...      ...               ...             ...       ...               ...\n",
       "2945       節  punctuation mark            True      1026                 0\n",
       "2946      目的              noun           False      1026                 1\n",
       "2947       變  punctuation mark            True      1027                 0\n",
       "2948       遷  punctuation mark            True      1028                 0\n",
       "2950      ==           numeral           False      1028                 1\n",
       "\n",
       "[2879 rows x 5 columns]"
      ]
     },
     "execution_count": 3,
     "metadata": {},
     "output_type": "execute_result"
    }
   ],
   "source": [
    "# most viewed article in 2018, tv series: Story of Yanxi Palace\n",
    "yanxi = segment_wikipedia_article(title=\"延禧攻略\")\n",
    "yanxi"
   ]
  },
  {
   "cell_type": "code",
   "execution_count": 4,
   "metadata": {},
   "outputs": [
    {
     "data": {
      "text/html": [
       "<div>\n",
       "<style scoped>\n",
       "    .dataframe tbody tr th:only-of-type {\n",
       "        vertical-align: middle;\n",
       "    }\n",
       "\n",
       "    .dataframe tbody tr th {\n",
       "        vertical-align: top;\n",
       "    }\n",
       "\n",
       "    .dataframe thead th {\n",
       "        text-align: right;\n",
       "    }\n",
       "</style>\n",
       "<table border=\"1\" class=\"dataframe\">\n",
       "  <thead>\n",
       "    <tr style=\"text-align: right;\">\n",
       "      <th></th>\n",
       "      <th>segment</th>\n",
       "      <th>characteristic</th>\n",
       "      <th>is_punctuation</th>\n",
       "      <th>sentence</th>\n",
       "      <th>sentence_word_id</th>\n",
       "    </tr>\n",
       "  </thead>\n",
       "  <tbody>\n",
       "  </tbody>\n",
       "</table>\n",
       "</div>"
      ],
      "text/plain": [
       "Empty DataFrame\n",
       "Columns: [segment, characteristic, is_punctuation, sentence, sentence_word_id]\n",
       "Index: []"
      ]
     },
     "execution_count": 4,
     "metadata": {},
     "output_type": "execute_result"
    }
   ],
   "source": [
    "yanxi[yanxi.segment == \"\"]"
   ]
  },
  {
   "cell_type": "code",
   "execution_count": 5,
   "metadata": {},
   "outputs": [
    {
     "data": {
      "text/plain": [
       "punctuation mark        11589\n",
       "noun                     4708\n",
       "verb                     4186\n",
       "particle                 1138\n",
       "adverb                   1005\n",
       "preposition               968\n",
       "numeral                   736\n",
       "adjective                 620\n",
       "conjunction               585\n",
       "noun of locality          552\n",
       "time word                 538\n",
       "pronoun                   412\n",
       "classifier                403\n",
       "distinguishing word       235\n",
       "locative word              56\n",
       "multiword expression       25\n",
       "suffix                     15\n",
       "modal particle             14\n",
       "onomatopoeia                1\n",
       "Name: characteristic, dtype: int64"
      ]
     },
     "execution_count": 5,
     "metadata": {},
     "output_type": "execute_result"
    }
   ],
   "source": [
    "tiananmen.characteristic.value_counts()"
   ]
  },
  {
   "cell_type": "markdown",
   "metadata": {},
   "source": [
    "Most characters are punctuation marks. Since they are not interesting for now they can be filtered out:"
   ]
  },
  {
   "cell_type": "code",
   "execution_count": 6,
   "metadata": {},
   "outputs": [
    {
     "data": {
      "text/plain": [
       "array(['，', '、', '。', '（', '）', '“', '”', '時', '會', '簡', '稱', '「', '」',\n",
       "       '運', '動', '據', '過', '發', '門', '廣', '場', '習', '慣', '國', '軍', '進',\n",
       "       '駐', '議', '眾', '離', '隊', '執', '務', '陸', '區', '將', '鎮', '壓', '殺',\n",
       "       '產', '黨', '華', '數', '個', '並', '漸', '對', '響', '剛', '際', '為', '亂',\n",
       "       '結', '風', '當', '衝', '續', '這', '類', '語', '經', '：', '聞', '體', '詞',\n",
       "       '關', '報', '導', '則', '減', '絕', '讓', '許', '現', '內', '尋', '開', '論',\n",
       "       '壇', '繞', '網', '審', '羅', '馬', '寫', '隨', '傳', '視', '彙', '屆', '復',\n",
       "       '鄧', '總', '參', '謀', '長', '職', '獲', '權', '員', '擔', '書', '記', '處',\n",
       "       '鋒', '趙', '陽', '領', '層', '儘', '濟', '歡', '敗', '帶', '係', '憂', '斷',\n",
       "       '來', '價', '機', '穩', '較', '製', '誘', '採', '雙', '軌', '購', '販', '貨',\n",
       "       '幣', '應', '廠', '無', '潤', '；', '貸', '兌', '礎', '鬆', '間', '買', '積',\n",
       "       '週', '銷', '闖', '顯', '臨', '膨', '脹', '問', '題', '費', '業', '擁', '與',\n",
       "       '鐵', '飯', '設', '識', '揮', '實', '學', '額', '況', '計', '劃', '農', '輕',\n",
       "       '資', '專', '須', '條', '績', '質', '該', '慘', '們', '認', '憑', '決', '園',\n",
       "       '規', '龍', '團', '組', '織', '興', '義', '態', '營', '寬', '優', '勢', '強',\n",
       "       '調', '沒', '窮', '財', '滿', '滅', '變', '遲', '種', '辦', '項', '張', '針',\n",
       "       '夠', '達', '紀', '檢', '陳', '雲', '確', '《', '》', '.', '籲', '單', '牆',\n",
       "       '貼', '見', '暫', '爾', '閉', '頓', '勵', '訪', '談', '錄', '損', '統', '觀',\n",
       "       '講', '緩', '遊', '訴', '雖', '階', '驚', '責', '試', '圖', '煽', '軟', '適',\n",
       "       '譴', '辭', '點', '環', '臟', '迴', '裡', '頌', '幾', '貪', '靈', '轉', '東',\n",
       "       '舉', '說', '討', '礙', ',', '兩', '評', '諧', '嚴', '懲', '毆', '兇', '賠',\n",
       "       '禮', '盡', '佈', '幹', '屬', '詳', '誤', '級', '徹', '構', '給', '愛', '繼',\n",
       "       '圍', '話', '靜', '師', '齊', '聲', '鵬', '！', '號', '線', '驅', '極', '聯',\n",
       "       '戰', '紙', '臺', '趨', '澤', '刪', '頁', '編', '輯', '欽', '贏', '儀', '約',\n",
       "       '萬', '楊', '鐘', '緒', '漲', '鎖', '請', '願', '籌', '選', '讀', '範', '罷',\n",
       "       '課', '樣', '轄', '漢', '黃', '縱', '毀', '壞', '車', '輛', '搶', '盪', '別',\n",
       "       '駁', '鮮', '勞', '飛', '錫', '銘', '陰', '堅', '還', '擴', '準', '頭', '幟',\n",
       "       '棄', '親', '護', '從', '劇', '溫', '證', '擇', '備', '騙', '蘇', '碼', '紛',\n",
       "       '惡', '·', '魯', '曉', '賓', '慶', '徵', '腦', '跡', '難', '閻', '緊', '劉',\n",
       "       '濤', '啟', '卻', '懇', '誠', '協', '連', '貫', '諾', '嘗', '勸', '挾', '換',\n",
       "       '詢', '標', '誌', '歷', '尷', '錯', '歸', '紅', '醫', '療', '湧', '併', '犧',\n",
       "       '牲', '喪', '龐', '撫', '診', '僅', '電', '節', '寶', '聽', '爲', '顧', '懼',\n",
       "       '險', '擊', '喬', '終', '輸', '攔', '飲', '紮', '頹', '衛', '佔', '爭', '奪',\n",
       "       '獻', '島', '載', '憤', '灣', '奮', '鬥', '淚', '趕', '攜', '傷', '廳', '滲',\n",
       "       '脅', '狀', '鞏', '鍵', '監', '擋', '負', '槍', '彈', '訝', '丟', '擲', '歲',\n",
       "       '術', '創', '燒', '側', '築', '裝', '廂', '倉', '鏈', '傘', '塊', '吳', '預',\n",
       "       '瞭', '館', '鬱', '澆', '恥', '維', '順', '…', '欄', '隸', '闢', '燈', '氣',\n",
       "       '膽', '釋', '牽', '掃', '膠', '屍', '郵', '攝', '轟', '陝', '擺', '癱', '瘓',\n",
       "       '樓', '鎔', '鄭', '慮', '橋', '潑', '灑', '絡', '汽', '駕', '憲', '謙', '兒',\n",
       "       '鏞', '錢', '譚', '燦', '獨', '騷', '擾', '倫', '亞', '檔', '頒', '懷', '蓋',\n",
       "       '壟', '傾', '寧', '橡', '獄', '姦', '鮑', '洩', '緝', '銀', '蹤', '違', '訊',\n",
       "       '紐', '潔', '蒐', '痺', '陣', '樂', '輾', '麼', '誰', '帳', '驗', '錦', '鳳',\n",
       "       '遺', '祕', '蔣', '彥', '糾', '噤', '腫', '歐', '厲', '譽', '猶', '雜', '捩',\n",
       "       '燭', '賬', '襲', '聶', '僱', '濫', '舖', '戶', '凍', '補', '貿', '藍', '億',\n",
       "       '妨', '傑', '輪', '註', '械', '廢', '虛', '遠', '腳', '讚', '締', '瀏', '覽',\n",
       "       '詩', '繩', '鳴', '訂', '綱', '納', '潛', '^^鈥媈^', '漁', '償', '聰', '諷',\n",
       "       '搖', '滾', \"'\", '獅', '瓊', '閃', '譯', '湯', '凱', '憶', '婁', '燁', '頤',\n",
       "       '偉', '幫', '藝', '畫', '賣', '貴', '鵝', '繪', '-', '勝', '(', ')', ':'],\n",
       "      dtype=object)"
      ]
     },
     "execution_count": 6,
     "metadata": {},
     "output_type": "execute_result"
    }
   ],
   "source": [
    "tiananmen[tiananmen.characteristic == \"punctuation mark\"].segment.unique()"
   ]
  },
  {
   "cell_type": "code",
   "execution_count": 7,
   "metadata": {},
   "outputs": [
    {
     "data": {
      "text/plain": [
       "3364"
      ]
     },
     "execution_count": 7,
     "metadata": {},
     "output_type": "execute_result"
    }
   ],
   "source": [
    "len(tiananmen.segment.unique())"
   ]
  },
  {
   "cell_type": "code",
   "execution_count": 8,
   "metadata": {
    "scrolled": true
   },
   "outputs": [
    {
     "data": {
      "text/html": [
       "<div>\n",
       "<style scoped>\n",
       "    .dataframe tbody tr th:only-of-type {\n",
       "        vertical-align: middle;\n",
       "    }\n",
       "\n",
       "    .dataframe tbody tr th {\n",
       "        vertical-align: top;\n",
       "    }\n",
       "\n",
       "    .dataframe thead th {\n",
       "        text-align: right;\n",
       "    }\n",
       "</style>\n",
       "<table border=\"1\" class=\"dataframe\">\n",
       "  <thead>\n",
       "    <tr style=\"text-align: right;\">\n",
       "      <th></th>\n",
       "      <th>segment</th>\n",
       "      <th>characteristic</th>\n",
       "      <th>is_punctuation</th>\n",
       "      <th>sentence</th>\n",
       "      <th>sentence_word_id</th>\n",
       "    </tr>\n",
       "  </thead>\n",
       "  <tbody>\n",
       "    <tr>\n",
       "      <th>27930</th>\n",
       "      <td>参考</td>\n",
       "      <td>verb</td>\n",
       "      <td>False</td>\n",
       "      <td>11585</td>\n",
       "      <td>2</td>\n",
       "    </tr>\n",
       "    <tr>\n",
       "      <th>27931</th>\n",
       "      <td>文献</td>\n",
       "      <td>noun</td>\n",
       "      <td>False</td>\n",
       "      <td>11585</td>\n",
       "      <td>3</td>\n",
       "    </tr>\n",
       "    <tr>\n",
       "      <th>27933</th>\n",
       "      <td>==</td>\n",
       "      <td>numeral</td>\n",
       "      <td>False</td>\n",
       "      <td>11585</td>\n",
       "      <td>4</td>\n",
       "    </tr>\n",
       "    <tr>\n",
       "      <th>27934</th>\n",
       "      <td>==</td>\n",
       "      <td>numeral</td>\n",
       "      <td>False</td>\n",
       "      <td>11585</td>\n",
       "      <td>5</td>\n",
       "    </tr>\n",
       "    <tr>\n",
       "      <th>27936</th>\n",
       "      <td>相关</td>\n",
       "      <td>verb</td>\n",
       "      <td>False</td>\n",
       "      <td>11585</td>\n",
       "      <td>6</td>\n",
       "    </tr>\n",
       "    <tr>\n",
       "      <th>27937</th>\n",
       "      <td>阅读</td>\n",
       "      <td>verb</td>\n",
       "      <td>False</td>\n",
       "      <td>11585</td>\n",
       "      <td>7</td>\n",
       "    </tr>\n",
       "    <tr>\n",
       "      <th>27939</th>\n",
       "      <td>==</td>\n",
       "      <td>numeral</td>\n",
       "      <td>False</td>\n",
       "      <td>11585</td>\n",
       "      <td>8</td>\n",
       "    </tr>\n",
       "    <tr>\n",
       "      <th>27940</th>\n",
       "      <td>==</td>\n",
       "      <td>numeral</td>\n",
       "      <td>False</td>\n",
       "      <td>11585</td>\n",
       "      <td>9</td>\n",
       "    </tr>\n",
       "    <tr>\n",
       "      <th>27942</th>\n",
       "      <td>外部</td>\n",
       "      <td>noun of locality</td>\n",
       "      <td>False</td>\n",
       "      <td>11585</td>\n",
       "      <td>10</td>\n",
       "    </tr>\n",
       "    <tr>\n",
       "      <th>27943</th>\n",
       "      <td>連</td>\n",
       "      <td>punctuation mark</td>\n",
       "      <td>True</td>\n",
       "      <td>11586</td>\n",
       "      <td>0</td>\n",
       "    </tr>\n",
       "    <tr>\n",
       "      <th>27944</th>\n",
       "      <td>結</td>\n",
       "      <td>punctuation mark</td>\n",
       "      <td>True</td>\n",
       "      <td>11587</td>\n",
       "      <td>0</td>\n",
       "    </tr>\n",
       "    <tr>\n",
       "      <th>27946</th>\n",
       "      <td>==</td>\n",
       "      <td>numeral</td>\n",
       "      <td>False</td>\n",
       "      <td>11587</td>\n",
       "      <td>1</td>\n",
       "    </tr>\n",
       "    <tr>\n",
       "      <th>27947</th>\n",
       "      <td>Template</td>\n",
       "      <td>noun</td>\n",
       "      <td>False</td>\n",
       "      <td>11587</td>\n",
       "      <td>2</td>\n",
       "    </tr>\n",
       "    <tr>\n",
       "      <th>27948</th>\n",
       "      <td>:</td>\n",
       "      <td>punctuation mark</td>\n",
       "      <td>True</td>\n",
       "      <td>11588</td>\n",
       "      <td>0</td>\n",
       "    </tr>\n",
       "    <tr>\n",
       "      <th>27949</th>\n",
       "      <td>[Cold</td>\n",
       "      <td>None</td>\n",
       "      <td>False</td>\n",
       "      <td>11588</td>\n",
       "      <td>1</td>\n",
       "    </tr>\n",
       "    <tr>\n",
       "      <th>27950</th>\n",
       "      <td>War]</td>\n",
       "      <td>noun</td>\n",
       "      <td>False</td>\n",
       "      <td>11588</td>\n",
       "      <td>2</td>\n",
       "    </tr>\n",
       "    <tr>\n",
       "      <th>27951</th>\n",
       "      <td>Template</td>\n",
       "      <td>noun</td>\n",
       "      <td>False</td>\n",
       "      <td>11588</td>\n",
       "      <td>3</td>\n",
       "    </tr>\n",
       "    <tr>\n",
       "      <th>27952</th>\n",
       "      <td>:</td>\n",
       "      <td>punctuation mark</td>\n",
       "      <td>True</td>\n",
       "      <td>11589</td>\n",
       "      <td>0</td>\n",
       "    </tr>\n",
       "    <tr>\n",
       "      <th>27953</th>\n",
       "      <td>Authority</td>\n",
       "      <td>noun</td>\n",
       "      <td>False</td>\n",
       "      <td>11589</td>\n",
       "      <td>1</td>\n",
       "    </tr>\n",
       "    <tr>\n",
       "      <th>27954</th>\n",
       "      <td>control</td>\n",
       "      <td>noun</td>\n",
       "      <td>False</td>\n",
       "      <td>11589</td>\n",
       "      <td>2</td>\n",
       "    </tr>\n",
       "  </tbody>\n",
       "</table>\n",
       "</div>"
      ],
      "text/plain": [
       "         segment    characteristic  is_punctuation  sentence  sentence_word_id\n",
       "27930         参考              verb           False     11585                 2\n",
       "27931         文献              noun           False     11585                 3\n",
       "27933         ==           numeral           False     11585                 4\n",
       "27934         ==           numeral           False     11585                 5\n",
       "27936         相关              verb           False     11585                 6\n",
       "27937         阅读              verb           False     11585                 7\n",
       "27939         ==           numeral           False     11585                 8\n",
       "27940         ==           numeral           False     11585                 9\n",
       "27942         外部  noun of locality           False     11585                10\n",
       "27943          連  punctuation mark            True     11586                 0\n",
       "27944          結  punctuation mark            True     11587                 0\n",
       "27946         ==           numeral           False     11587                 1\n",
       "27947   Template              noun           False     11587                 2\n",
       "27948          :  punctuation mark            True     11588                 0\n",
       "27949      [Cold              None           False     11588                 1\n",
       "27950       War]              noun           False     11588                 2\n",
       "27951   Template              noun           False     11588                 3\n",
       "27952          :  punctuation mark            True     11589                 0\n",
       "27953  Authority              noun           False     11589                 1\n",
       "27954    control              noun           False     11589                 2"
      ]
     },
     "execution_count": 8,
     "metadata": {},
     "output_type": "execute_result"
    }
   ],
   "source": [
    "tiananmen.tail(20)"
   ]
  },
  {
   "cell_type": "code",
   "execution_count": 9,
   "metadata": {},
   "outputs": [
    {
     "data": {
      "text/html": [
       "<div>\n",
       "<style scoped>\n",
       "    .dataframe tbody tr th:only-of-type {\n",
       "        vertical-align: middle;\n",
       "    }\n",
       "\n",
       "    .dataframe tbody tr th {\n",
       "        vertical-align: top;\n",
       "    }\n",
       "\n",
       "    .dataframe thead th {\n",
       "        text-align: right;\n",
       "    }\n",
       "</style>\n",
       "<table border=\"1\" class=\"dataframe\">\n",
       "  <thead>\n",
       "    <tr style=\"text-align: right;\">\n",
       "      <th></th>\n",
       "      <th>segment</th>\n",
       "      <th>characteristic</th>\n",
       "      <th>is_punctuation</th>\n",
       "      <th>sentence</th>\n",
       "      <th>sentence_word_id</th>\n",
       "    </tr>\n",
       "  </thead>\n",
       "  <tbody>\n",
       "    <tr>\n",
       "      <th>0</th>\n",
       "      <td>六四</td>\n",
       "      <td>numeral</td>\n",
       "      <td>False</td>\n",
       "      <td>0</td>\n",
       "      <td>0</td>\n",
       "    </tr>\n",
       "    <tr>\n",
       "      <th>1</th>\n",
       "      <td>事件</td>\n",
       "      <td>noun</td>\n",
       "      <td>False</td>\n",
       "      <td>0</td>\n",
       "      <td>1</td>\n",
       "    </tr>\n",
       "    <tr>\n",
       "      <th>3</th>\n",
       "      <td>又</td>\n",
       "      <td>conjunction</td>\n",
       "      <td>False</td>\n",
       "      <td>1</td>\n",
       "      <td>1</td>\n",
       "    </tr>\n",
       "    <tr>\n",
       "      <th>4</th>\n",
       "      <td>稱</td>\n",
       "      <td>noun</td>\n",
       "      <td>False</td>\n",
       "      <td>1</td>\n",
       "      <td>2</td>\n",
       "    </tr>\n",
       "    <tr>\n",
       "      <th>5</th>\n",
       "      <td>六四</td>\n",
       "      <td>numeral</td>\n",
       "      <td>False</td>\n",
       "      <td>1</td>\n",
       "      <td>3</td>\n",
       "    </tr>\n",
       "    <tr>\n",
       "      <th>...</th>\n",
       "      <td>...</td>\n",
       "      <td>...</td>\n",
       "      <td>...</td>\n",
       "      <td>...</td>\n",
       "      <td>...</td>\n",
       "    </tr>\n",
       "    <tr>\n",
       "      <th>27949</th>\n",
       "      <td>[Cold</td>\n",
       "      <td>None</td>\n",
       "      <td>False</td>\n",
       "      <td>11588</td>\n",
       "      <td>1</td>\n",
       "    </tr>\n",
       "    <tr>\n",
       "      <th>27950</th>\n",
       "      <td>War]</td>\n",
       "      <td>noun</td>\n",
       "      <td>False</td>\n",
       "      <td>11588</td>\n",
       "      <td>2</td>\n",
       "    </tr>\n",
       "    <tr>\n",
       "      <th>27951</th>\n",
       "      <td>Template</td>\n",
       "      <td>noun</td>\n",
       "      <td>False</td>\n",
       "      <td>11588</td>\n",
       "      <td>3</td>\n",
       "    </tr>\n",
       "    <tr>\n",
       "      <th>27953</th>\n",
       "      <td>Authority</td>\n",
       "      <td>noun</td>\n",
       "      <td>False</td>\n",
       "      <td>11589</td>\n",
       "      <td>1</td>\n",
       "    </tr>\n",
       "    <tr>\n",
       "      <th>27954</th>\n",
       "      <td>control</td>\n",
       "      <td>noun</td>\n",
       "      <td>False</td>\n",
       "      <td>11589</td>\n",
       "      <td>2</td>\n",
       "    </tr>\n",
       "  </tbody>\n",
       "</table>\n",
       "<p>16204 rows × 5 columns</p>\n",
       "</div>"
      ],
      "text/plain": [
       "         segment characteristic  is_punctuation  sentence  sentence_word_id\n",
       "0             六四        numeral           False         0                 0\n",
       "1             事件           noun           False         0                 1\n",
       "3              又    conjunction           False         1                 1\n",
       "4              稱           noun           False         1                 2\n",
       "5             六四        numeral           False         1                 3\n",
       "...          ...            ...             ...       ...               ...\n",
       "27949      [Cold           None           False     11588                 1\n",
       "27950       War]           noun           False     11588                 2\n",
       "27951   Template           noun           False     11588                 3\n",
       "27953  Authority           noun           False     11589                 1\n",
       "27954    control           noun           False     11589                 2\n",
       "\n",
       "[16204 rows x 5 columns]"
      ]
     },
     "execution_count": 9,
     "metadata": {},
     "output_type": "execute_result"
    }
   ],
   "source": [
    "tiananmen[tiananmen.characteristic != \"punctuation mark\"]"
   ]
  },
  {
   "cell_type": "code",
   "execution_count": 10,
   "metadata": {},
   "outputs": [
    {
     "data": {
      "text/html": [
       "<div>\n",
       "<style scoped>\n",
       "    .dataframe tbody tr th:only-of-type {\n",
       "        vertical-align: middle;\n",
       "    }\n",
       "\n",
       "    .dataframe tbody tr th {\n",
       "        vertical-align: top;\n",
       "    }\n",
       "\n",
       "    .dataframe thead th {\n",
       "        text-align: right;\n",
       "    }\n",
       "</style>\n",
       "<table border=\"1\" class=\"dataframe\">\n",
       "  <thead>\n",
       "    <tr style=\"text-align: right;\">\n",
       "      <th></th>\n",
       "      <th>segment</th>\n",
       "      <th>characteristic</th>\n",
       "      <th>is_punctuation</th>\n",
       "      <th>sentence</th>\n",
       "      <th>sentence_word_id</th>\n",
       "    </tr>\n",
       "  </thead>\n",
       "  <tbody>\n",
       "    <tr>\n",
       "      <th>2675</th>\n",
       "      <td>。</td>\n",
       "      <td>None</td>\n",
       "      <td>False</td>\n",
       "      <td>997</td>\n",
       "      <td>10</td>\n",
       "    </tr>\n",
       "    <tr>\n",
       "      <th>2760</th>\n",
       "      <td>。</td>\n",
       "      <td>None</td>\n",
       "      <td>False</td>\n",
       "      <td>1009</td>\n",
       "      <td>11</td>\n",
       "    </tr>\n",
       "    <tr>\n",
       "      <th>2928</th>\n",
       "      <td>。</td>\n",
       "      <td>None</td>\n",
       "      <td>False</td>\n",
       "      <td>1051</td>\n",
       "      <td>9</td>\n",
       "    </tr>\n",
       "    <tr>\n",
       "      <th>2966</th>\n",
       "      <td>。</td>\n",
       "      <td>None</td>\n",
       "      <td>False</td>\n",
       "      <td>1064</td>\n",
       "      <td>7</td>\n",
       "    </tr>\n",
       "    <tr>\n",
       "      <th>3074</th>\n",
       "      <td>。</td>\n",
       "      <td>None</td>\n",
       "      <td>False</td>\n",
       "      <td>1077</td>\n",
       "      <td>6</td>\n",
       "    </tr>\n",
       "    <tr>\n",
       "      <th>3130</th>\n",
       "      <td>。</td>\n",
       "      <td>None</td>\n",
       "      <td>False</td>\n",
       "      <td>1085</td>\n",
       "      <td>5</td>\n",
       "    </tr>\n",
       "    <tr>\n",
       "      <th>27949</th>\n",
       "      <td>[Cold</td>\n",
       "      <td>None</td>\n",
       "      <td>False</td>\n",
       "      <td>11588</td>\n",
       "      <td>1</td>\n",
       "    </tr>\n",
       "  </tbody>\n",
       "</table>\n",
       "</div>"
      ],
      "text/plain": [
       "      segment characteristic  is_punctuation  sentence  sentence_word_id\n",
       "2675        。           None           False       997                10\n",
       "2760        。           None           False      1009                11\n",
       "2928        。           None           False      1051                 9\n",
       "2966        。           None           False      1064                 7\n",
       "3074        。           None           False      1077                 6\n",
       "3130        。           None           False      1085                 5\n",
       "27949   [Cold           None           False     11588                 1"
      ]
     },
     "execution_count": 10,
     "metadata": {},
     "output_type": "execute_result"
    }
   ],
   "source": [
    "tiananmen[tiananmen.characteristic.isnull()]"
   ]
  },
  {
   "cell_type": "code",
   "execution_count": 11,
   "metadata": {},
   "outputs": [
    {
     "data": {
      "text/plain": [
       "<AxesSubplot:xlabel='characteristic'>"
      ]
     },
     "execution_count": 11,
     "metadata": {},
     "output_type": "execute_result"
    },
    {
     "data": {
      "image/png": "[encoded data removed]",
      "text/plain": [
       "<Figure size 432x288 with 1 Axes>"
      ]
     },
     "metadata": {
      "needs_background": "light"
     },
     "output_type": "display_data"
    }
   ],
   "source": [
    "tiananmen.groupby(\"characteristic\")[\"segment\"].count().plot.bar()"
   ]
  },
  {
   "cell_type": "code",
   "execution_count": 12,
   "metadata": {},
   "outputs": [
    {
     "data": {
      "text/plain": [
       "<AxesSubplot:xlabel='characteristic'>"
      ]
     },
     "execution_count": 12,
     "metadata": {},
     "output_type": "execute_result"
    },
    {
     "data": {
      "image/png": "[encoded data removed]",
      "text/plain": [
       "<Figure size 432x288 with 1 Axes>"
      ]
     },
     "metadata": {
      "needs_background": "light"
     },
     "output_type": "display_data"
    }
   ],
   "source": [
    "yanxi.groupby(\"characteristic\")[\"segment\"].count().plot.bar()"
   ]
  },
  {
   "cell_type": "markdown",
   "metadata": {},
   "source": [
    "The distrubution of both articles looks very similar. Does this also apply to the most common words?"
   ]
  },
  {
   "cell_type": "code",
   "execution_count": 13,
   "metadata": {},
   "outputs": [
    {
     "data": {
      "text/plain": [
       "的     947\n",
       "在     385\n",
       "中     328\n",
       "生     253\n",
       "後     190\n",
       "有     161\n",
       "而     154\n",
       "和     154\n",
       "大     137\n",
       "人     136\n",
       "事件    128\n",
       "也     118\n",
       "行     118\n",
       "且     116\n",
       "了     115\n",
       "Name: segment, dtype: int64"
      ]
     },
     "execution_count": 13,
     "metadata": {},
     "output_type": "execute_result"
    }
   ],
   "source": [
    "tiananmen = tiananmen[tiananmen.characteristic != \"punctuation mark\"]\n",
    "\n",
    "tiananmen.segment.value_counts().head(15)"
   ]
  },
  {
   "cell_type": "code",
   "execution_count": 14,
   "metadata": {},
   "outputs": [
    {
     "data": {
      "text/plain": [
       "的        68\n",
       "延禧       38\n",
       "略        33\n",
       "攻        33\n",
       "在        32\n",
       "==       28\n",
       "===      22\n",
       "是        19\n",
       "一        17\n",
       "中        16\n",
       "拍        15\n",
       "集        13\n",
       "收        13\n",
       "上        12\n",
       "於        12\n",
       "等        11\n",
       "作        11\n",
       "播放       10\n",
       "部         9\n",
       "2018年     9\n",
       "Name: segment, dtype: int64"
      ]
     },
     "execution_count": 14,
     "metadata": {},
     "output_type": "execute_result"
    }
   ],
   "source": [
    "yanxi = yanxi[yanxi.characteristic != \"punctuation mark\"]\n",
    "\n",
    "yanxi.segment.value_counts().head(20)"
   ]
  },
  {
   "cell_type": "markdown",
   "metadata": {},
   "source": [
    "In both articles the word \"的\" is the most frequently used one.\n",
    "The word \"在\" is similarly often used. The other words have a pretty similar distrubution.\n",
    "\n",
    "To get a better result, alot of wikipedia articles should be accumulated and then analyzed together."
   ]
  },
  {
   "cell_type": "markdown",
   "metadata": {},
   "source": [
    "## Uniqueness over time\n",
    "\n",
    "to get the number of unique words over time the following transformation has to be performed:\n",
    "\n"
   ]
  },
  {
   "cell_type": "code",
   "execution_count": 15,
   "metadata": {},
   "outputs": [],
   "source": [
    "from bigchina.analyzer import rolling_unique_count\n",
    "\n",
    "yanxi.reset_index(drop=True, inplace=True)\n",
    "yanxi = rolling_unique_count(yanxi, \"segment\")"
   ]
  },
  {
   "cell_type": "code",
   "execution_count": 16,
   "metadata": {},
   "outputs": [
    {
     "data": {
      "text/html": [
       "<div>\n",
       "<style scoped>\n",
       "    .dataframe tbody tr th:only-of-type {\n",
       "        vertical-align: middle;\n",
       "    }\n",
       "\n",
       "    .dataframe tbody tr th {\n",
       "        vertical-align: top;\n",
       "    }\n",
       "\n",
       "    .dataframe thead th {\n",
       "        text-align: right;\n",
       "    }\n",
       "</style>\n",
       "<table border=\"1\" class=\"dataframe\">\n",
       "  <thead>\n",
       "    <tr style=\"text-align: right;\">\n",
       "      <th></th>\n",
       "      <th>segment</th>\n",
       "      <th>characteristic</th>\n",
       "      <th>is_punctuation</th>\n",
       "      <th>sentence</th>\n",
       "      <th>sentence_word_id</th>\n",
       "      <th>rolling_unique_segment_count</th>\n",
       "    </tr>\n",
       "  </thead>\n",
       "  <tbody>\n",
       "    <tr>\n",
       "      <th>0</th>\n",
       "      <td>延禧</td>\n",
       "      <td>noun</td>\n",
       "      <td>False</td>\n",
       "      <td>0</td>\n",
       "      <td>1</td>\n",
       "      <td>1</td>\n",
       "    </tr>\n",
       "    <tr>\n",
       "      <th>1</th>\n",
       "      <td>攻</td>\n",
       "      <td>verb</td>\n",
       "      <td>False</td>\n",
       "      <td>0</td>\n",
       "      <td>2</td>\n",
       "      <td>2</td>\n",
       "    </tr>\n",
       "    <tr>\n",
       "      <th>2</th>\n",
       "      <td>略</td>\n",
       "      <td>adverb</td>\n",
       "      <td>False</td>\n",
       "      <td>0</td>\n",
       "      <td>3</td>\n",
       "      <td>3</td>\n",
       "    </tr>\n",
       "    <tr>\n",
       "      <th>3</th>\n",
       "      <td>英</td>\n",
       "      <td>distinguishing word</td>\n",
       "      <td>False</td>\n",
       "      <td>3</td>\n",
       "      <td>1</td>\n",
       "      <td>4</td>\n",
       "    </tr>\n",
       "    <tr>\n",
       "      <th>4</th>\n",
       "      <td>Story</td>\n",
       "      <td>noun</td>\n",
       "      <td>False</td>\n",
       "      <td>5</td>\n",
       "      <td>1</td>\n",
       "      <td>5</td>\n",
       "    </tr>\n",
       "    <tr>\n",
       "      <th>...</th>\n",
       "      <td>...</td>\n",
       "      <td>...</td>\n",
       "      <td>...</td>\n",
       "      <td>...</td>\n",
       "      <td>...</td>\n",
       "      <td>...</td>\n",
       "    </tr>\n",
       "    <tr>\n",
       "      <th>1846</th>\n",
       "      <td>简体</td>\n",
       "      <td>distinguishing word</td>\n",
       "      <td>False</td>\n",
       "      <td>1022</td>\n",
       "      <td>1</td>\n",
       "      <td>790</td>\n",
       "    </tr>\n",
       "    <tr>\n",
       "      <th>1847</th>\n",
       "      <td>中文</td>\n",
       "      <td>noun</td>\n",
       "      <td>False</td>\n",
       "      <td>1022</td>\n",
       "      <td>2</td>\n",
       "      <td>791</td>\n",
       "    </tr>\n",
       "    <tr>\n",
       "      <th>1848</th>\n",
       "      <td>==</td>\n",
       "      <td>numeral</td>\n",
       "      <td>False</td>\n",
       "      <td>1023</td>\n",
       "      <td>1</td>\n",
       "      <td>791</td>\n",
       "    </tr>\n",
       "    <tr>\n",
       "      <th>1849</th>\n",
       "      <td>目的</td>\n",
       "      <td>noun</td>\n",
       "      <td>False</td>\n",
       "      <td>1026</td>\n",
       "      <td>1</td>\n",
       "      <td>792</td>\n",
       "    </tr>\n",
       "    <tr>\n",
       "      <th>1850</th>\n",
       "      <td>==</td>\n",
       "      <td>numeral</td>\n",
       "      <td>False</td>\n",
       "      <td>1028</td>\n",
       "      <td>1</td>\n",
       "      <td>792</td>\n",
       "    </tr>\n",
       "  </tbody>\n",
       "</table>\n",
       "<p>1851 rows × 6 columns</p>\n",
       "</div>"
      ],
      "text/plain": [
       "     segment       characteristic  is_punctuation  sentence  sentence_word_id  \\\n",
       "0         延禧                 noun           False         0                 1   \n",
       "1          攻                 verb           False         0                 2   \n",
       "2          略               adverb           False         0                 3   \n",
       "3          英  distinguishing word           False         3                 1   \n",
       "4      Story                 noun           False         5                 1   \n",
       "...      ...                  ...             ...       ...               ...   \n",
       "1846      简体  distinguishing word           False      1022                 1   \n",
       "1847      中文                 noun           False      1022                 2   \n",
       "1848      ==              numeral           False      1023                 1   \n",
       "1849      目的                 noun           False      1026                 1   \n",
       "1850      ==              numeral           False      1028                 1   \n",
       "\n",
       "      rolling_unique_segment_count  \n",
       "0                                1  \n",
       "1                                2  \n",
       "2                                3  \n",
       "3                                4  \n",
       "4                                5  \n",
       "...                            ...  \n",
       "1846                           790  \n",
       "1847                           791  \n",
       "1848                           791  \n",
       "1849                           792  \n",
       "1850                           792  \n",
       "\n",
       "[1851 rows x 6 columns]"
      ]
     },
     "execution_count": 16,
     "metadata": {},
     "output_type": "execute_result"
    }
   ],
   "source": [
    "yanxi"
   ]
  },
  {
   "cell_type": "code",
   "execution_count": 18,
   "metadata": {},
   "outputs": [
    {
     "data": {
      "text/html": [
       "<div>\n",
       "<style scoped>\n",
       "    .dataframe tbody tr th:only-of-type {\n",
       "        vertical-align: middle;\n",
       "    }\n",
       "\n",
       "    .dataframe tbody tr th {\n",
       "        vertical-align: top;\n",
       "    }\n",
       "\n",
       "    .dataframe thead th {\n",
       "        text-align: right;\n",
       "    }\n",
       "</style>\n",
       "<table border=\"1\" class=\"dataframe\">\n",
       "  <thead>\n",
       "    <tr style=\"text-align: right;\">\n",
       "      <th></th>\n",
       "      <th>segment</th>\n",
       "      <th>characteristic</th>\n",
       "      <th>is_punctuation</th>\n",
       "      <th>sentence</th>\n",
       "      <th>sentence_word_id</th>\n",
       "      <th>rolling_unique_segment_count</th>\n",
       "    </tr>\n",
       "  </thead>\n",
       "  <tbody>\n",
       "    <tr>\n",
       "      <th>1097</th>\n",
       "      <td>巧妙</td>\n",
       "      <td>adjective</td>\n",
       "      <td>False</td>\n",
       "      <td>707</td>\n",
       "      <td>2</td>\n",
       "      <td>534</td>\n",
       "    </tr>\n",
       "  </tbody>\n",
       "</table>\n",
       "</div>"
      ],
      "text/plain": [
       "     segment characteristic  is_punctuation  sentence  sentence_word_id  \\\n",
       "1097      巧妙      adjective           False       707                 2   \n",
       "\n",
       "      rolling_unique_segment_count  \n",
       "1097                           534  "
      ]
     },
     "execution_count": 18,
     "metadata": {},
     "output_type": "execute_result"
    }
   ],
   "source": [
    "yanxi[yanxi.segment == \"巧妙\"]"
   ]
  },
  {
   "cell_type": "code",
   "execution_count": 19,
   "metadata": {},
   "outputs": [
    {
     "data": {
      "text/plain": [
       "<AxesSubplot:xlabel='index'>"
      ]
     },
     "execution_count": 19,
     "metadata": {},
     "output_type": "execute_result"
    },
    {
     "data": {
      "image/png": "[encoded data removed]",
      "text/plain": [
       "<Figure size 432x288 with 1 Axes>"
      ]
     },
     "metadata": {
      "needs_background": "light"
     },
     "output_type": "display_data"
    }
   ],
   "source": [
    "yanxi.reset_index().plot(x='index', y='rolling_unique_segment_count')"
   ]
  },
  {
   "cell_type": "code",
   "execution_count": 31,
   "metadata": {},
   "outputs": [
    {
     "data": {
      "text/plain": [
       "<AxesSubplot:xlabel='index'>"
      ]
     },
     "execution_count": 31,
     "metadata": {},
     "output_type": "execute_result"
    },
    {
     "data": {
      "image/png": "[encoded data removed]",
      "text/plain": [
       "<Figure size 432x288 with 1 Axes>"
      ]
     },
     "metadata": {
      "needs_background": "light"
     },
     "output_type": "display_data"
    }
   ],
   "source": [
    "tiananmen.reset_index(drop=True, inplace=True)\n",
    "tiananmen = rolling_unique_count(tiananmen, \"segment\")\n",
    "tiananmen.reset_index().plot(x='index', y='rolling_unique_segment_count')\n"
   ]
  },
  {
   "cell_type": "code",
   "execution_count": 32,
   "metadata": {},
   "outputs": [
    {
     "data": {
      "text/plain": [
       "[<matplotlib.lines.Line2D at 0x7f28f5d34160>]"
      ]
     },
     "execution_count": 32,
     "metadata": {},
     "output_type": "execute_result"
    },
    {
     "data": {
      "image/png": "[encoded data removed]",
      "text/plain": [
       "<Figure size 432x288 with 1 Axes>"
      ]
     },
     "metadata": {
      "needs_background": "light"
     },
     "output_type": "display_data"
    }
   ],
   "source": [
    "import numpy\n",
    "import matplotlib.pyplot as plt\n",
    "square_roots =  numpy.sqrt(tiananmen.index)\n",
    "\n",
    "plt.plot(tiananmen.index, square_roots)"
   ]
  },
  {
   "cell_type": "code",
   "execution_count": 35,
   "metadata": {},
   "outputs": [
    {
     "data": {
      "text/plain": [
       "[<matplotlib.lines.Line2D at 0x7f28f5cc2ee0>]"
      ]
     },
     "execution_count": 35,
     "metadata": {},
     "output_type": "execute_result"
    },
    {
     "data": {
      "image/png": "[encoded data removed]",
      "text/plain": [
       "<Figure size 432x288 with 1 Axes>"
      ]
     },
     "metadata": {
      "needs_background": "light"
     },
     "output_type": "display_data"
    }
   ],
   "source": [
    "tiananmen.reset_index().plot(x='index', y='rolling_unique_segment_count')\n",
    "plt.plot(tiananmen.index, square_roots*20)"
   ]
  },
  {
   "cell_type": "markdown",
   "metadata": {},
   "source": [
    "As it seems the number of unique words over time can be approximated by a square root function!"
   ]
  },
  {
   "cell_type": "code",
   "execution_count": 50,
   "metadata": {},
   "outputs": [
    {
     "data": {
      "text/plain": [
       "[<matplotlib.lines.Line2D at 0x7f28f59288e0>]"
      ]
     },
     "execution_count": 50,
     "metadata": {},
     "output_type": "execute_result"
    },
    {
     "data": {
      "image/png": "[encoded data removed]",
      "text/plain": [
       "<Figure size 432x288 with 1 Axes>"
      ]
     },
     "metadata": {
      "needs_background": "light"
     },
     "output_type": "display_data"
    }
   ],
   "source": [
    "yanxi.reset_index().plot(x='index', y='rolling_unique_segment_count')\n",
    "plt.plot(yanxi.index, numpy.sqrt(yanxi.index)*19)\n",
    "plt.plot(yanxi.index, yanxi.index/2.3)"
   ]
  },
  {
   "cell_type": "markdown",
   "metadata": {},
   "source": [
    "Here, the curve is more linear than anything else."
   ]
  }
 ],
 "metadata": {
  "kernelspec": {
   "display_name": "Python 3",
   "language": "python",
   "name": "python3"
  },
  "language_info": {
   "codemirror_mode": {
    "name": "ipython",
    "version": 3
   },
   "file_extension": ".py",
   "mimetype": "text/x-python",
   "name": "python",
   "nbconvert_exporter": "python",
   "pygments_lexer": "ipython3",
   "version": "3.8.6"
  }
 },
 "nbformat": 4,
 "nbformat_minor": 1
}
